{
  "nbformat": 4,
  "nbformat_minor": 0,
  "metadata": {
    "colab": {
      "provenance": [],
      "collapsed_sections": []
    },
    "kernelspec": {
      "name": "python3",
      "display_name": "Python 3"
    },
    "language_info": {
      "name": "python"
    }
  },
  "cells": [
    {
      "cell_type": "markdown",
      "source": [
        "### Step 0 - Import & Install Reqd Libraries"
      ],
      "metadata": {
        "id": "ZXDlXbIdEaWu"
      }
    },
    {
      "cell_type": "code",
      "execution_count": null,
      "metadata": {
        "id": "13NyYu2E-ZZd"
      },
      "outputs": [],
      "source": [
        "import gym # OpenAI Gym for our FrozenLake Environment\n",
        "import numpy as np # Numpy for our Qtable And Other Things\n",
        "import random # Random to generate random numbers"
      ]
    },
    {
      "cell_type": "code",
      "source": [
        "pip install gym[toy_text]"
      ],
      "metadata": {
        "colab": {
          "base_uri": "https://localhost:8080/"
        },
        "id": "OxBFKW9DBVWq",
        "outputId": "56bbd471-e3cb-4955-ca9e-7cf3e78b625f"
      },
      "execution_count": null,
      "outputs": [
        {
          "output_type": "stream",
          "name": "stdout",
          "text": [
            "Looking in indexes: https://pypi.org/simple, https://us-python.pkg.dev/colab-wheels/public/simple/\n",
            "Requirement already satisfied: gym[toy_text] in /usr/local/lib/python3.7/dist-packages (0.25.2)\n",
            "Requirement already satisfied: gym-notices>=0.0.4 in /usr/local/lib/python3.7/dist-packages (from gym[toy_text]) (0.0.8)\n",
            "Requirement already satisfied: numpy>=1.18.0 in /usr/local/lib/python3.7/dist-packages (from gym[toy_text]) (1.21.6)\n",
            "Requirement already satisfied: importlib-metadata>=4.8.0 in /usr/local/lib/python3.7/dist-packages (from gym[toy_text]) (4.12.0)\n",
            "Requirement already satisfied: cloudpickle>=1.2.0 in /usr/local/lib/python3.7/dist-packages (from gym[toy_text]) (1.5.0)\n",
            "Collecting pygame==2.1.0\n",
            "  Downloading pygame-2.1.0-cp37-cp37m-manylinux_2_17_x86_64.manylinux2014_x86_64.whl (18.3 MB)\n",
            "\u001b[K     |████████████████████████████████| 18.3 MB 1.5 MB/s \n",
            "\u001b[?25hRequirement already satisfied: zipp>=0.5 in /usr/local/lib/python3.7/dist-packages (from importlib-metadata>=4.8.0->gym[toy_text]) (3.8.1)\n",
            "Requirement already satisfied: typing-extensions>=3.6.4 in /usr/local/lib/python3.7/dist-packages (from importlib-metadata>=4.8.0->gym[toy_text]) (4.1.1)\n",
            "Installing collected packages: pygame\n",
            "Successfully installed pygame-2.1.0\n"
          ]
        }
      ]
    },
    {
      "cell_type": "code",
      "source": [
        "import os\n",
        "os.environ['SDL_VIDEODRIVER']='dummy'\n",
        "import pygame\n",
        "pygame.display.set_mode((640,480))"
      ],
      "metadata": {
        "colab": {
          "base_uri": "https://localhost:8080/"
        },
        "id": "iV6IDN79BnSS",
        "outputId": "746162b8-9242-478a-d674-6c8068d6211b"
      },
      "execution_count": null,
      "outputs": [
        {
          "output_type": "execute_result",
          "data": {
            "text/plain": [
              "<Surface(640x480x32 SW)>"
            ]
          },
          "metadata": {},
          "execution_count": 3
        }
      ]
    },
    {
      "cell_type": "code",
      "source": [
        "import pygame\n",
        "pygame.init()\n",
        "pygame.display.list_modes()"
      ],
      "metadata": {
        "colab": {
          "base_uri": "https://localhost:8080/"
        },
        "id": "J0rstBQiCN0z",
        "outputId": "fda5f4c0-1522-4ca2-e73e-21770b3e004b"
      },
      "execution_count": null,
      "outputs": [
        {
          "output_type": "execute_result",
          "data": {
            "text/plain": [
              "[(1024, 768)]"
            ]
          },
          "metadata": {},
          "execution_count": 4
        }
      ]
    },
    {
      "cell_type": "markdown",
      "source": [
        "### Step 1 : Play With Frozen Lake Environment"
      ],
      "metadata": {
        "id": "V2tKs-3KEliV"
      }
    },
    {
      "cell_type": "markdown",
      "source": [
        "Frozen Lake Environment : Navigate from the starting state (S) to the goal state (G) by walking only on frozen tiles (F) and avoid holes (H).\n",
        "\n",
        "We can have two sizes of environment:\n",
        "\n",
        "* map_name=\"4x4\": a 4x4 grid version\n",
        "* map_name=\"8x8\": a 8x8 grid version\n",
        "\n",
        "The environment has two modes:\n",
        "\n",
        "* is_slippery=False: The agent always move in the intended direction due to the non-slippery nature of the frozen lake.\n",
        "* is_slippery=True: The agent may not always move in the intended direction due to the slippery nature of the frozen lake (stochastic)."
      ],
      "metadata": {
        "id": "o5wU8gDCFvU6"
      }
    },
    {
      "cell_type": "markdown",
      "source": [
        "\n",
        "```\n",
        "# env = gym.make(\"FrozenLake-v1\", map_name=\"4x4\", is_slippery=False)\n",
        "```\n",
        "We can create your own custom grid like this:\n",
        "```\n",
        "desc=[\"SFFF\", \"FHFH\", \"FFFH\", \"HFFG\"]\n",
        "gym.make('FrozenLake-v1', desc=desc, is_slippery=True)\n",
        "```\n"
      ],
      "metadata": {
        "id": "BnAkvyzgGPqd"
      }
    },
    {
      "cell_type": "markdown",
      "source": [
        "We need to have barriers and unsafe state in Frozen lake for the term project.\n",
        "\n",
        "First lets go with default non slippery 4x4 frozen lake and later extend"
      ],
      "metadata": {
        "id": "6JOaDf2_Giho"
      }
    },
    {
      "cell_type": "code",
      "source": [
        "new_step_api=True\n",
        "env1 = gym.make(\"FrozenLake-v1\", is_slippery=False ,render_mode ='human')"
      ],
      "metadata": {
        "colab": {
          "base_uri": "https://localhost:8080/"
        },
        "id": "lXOezNCr-tlL",
        "outputId": "41ef6e5d-45df-4aca-bad9-073cdb351270"
      },
      "execution_count": null,
      "outputs": [
        {
          "output_type": "stream",
          "name": "stderr",
          "text": [
            "/usr/local/lib/python3.7/dist-packages/gym/core.py:318: DeprecationWarning: \u001b[33mWARN: Initializing wrapper in old step API which returns one bool instead of two. It is recommended to set `new_step_api=True` to use new step API. This will be the default behaviour in future.\u001b[0m\n",
            "  \"Initializing wrapper in old step API which returns one bool instead of two. It is recommended to set `new_step_api=True` to use new step API. This will be the default behaviour in future.\"\n",
            "/usr/local/lib/python3.7/dist-packages/gym/wrappers/step_api_compatibility.py:40: DeprecationWarning: \u001b[33mWARN: Initializing environment in old step API which returns one bool instead of two. It is recommended to set `new_step_api=True` to use new step API. This will be the default behaviour in future.\u001b[0m\n",
            "  \"Initializing environment in old step API which returns one bool instead of two. It is recommended to set `new_step_api=True` to use new step API. This will be the default behaviour in future.\"\n"
          ]
        }
      ]
    },
    {
      "cell_type": "code",
      "source": [
        "print(env1.action_space)"
      ],
      "metadata": {
        "colab": {
          "base_uri": "https://localhost:8080/"
        },
        "id": "yA6HPrAl--_4",
        "outputId": "2f7f069f-25f7-4357-a536-7cf9b18d6fbc"
      },
      "execution_count": null,
      "outputs": [
        {
          "output_type": "stream",
          "name": "stdout",
          "text": [
            "Discrete(4)\n"
          ]
        }
      ]
    },
    {
      "cell_type": "code",
      "source": [
        "action_size = env1.action_space.n\n",
        "state_size = env1.observation_space.n\n",
        "print(f\"Action Space : {action_size} | State Space: {state_size}\")"
      ],
      "metadata": {
        "colab": {
          "base_uri": "https://localhost:8080/"
        },
        "id": "A0JifTyrExEp",
        "outputId": "d5cde4fd-1072-4da9-bc62-7af3bc5f1551"
      },
      "execution_count": null,
      "outputs": [
        {
          "output_type": "stream",
          "name": "stdout",
          "text": [
            "Action Space : 4 | State Space: 16\n"
          ]
        }
      ]
    },
    {
      "cell_type": "code",
      "source": [
        "env1.reset()\n",
        "print(\"_____OBSERVATION SPACE_____ \\n\")\n",
        "print(\"Observation Space\", env1.observation_space)\n",
        "print(\"Sample observation\", env1.observation_space.sample()) # Get a random observation"
      ],
      "metadata": {
        "colab": {
          "base_uri": "https://localhost:8080/"
        },
        "id": "Ked8-DCxG79E",
        "outputId": "0905e45e-e8ca-4f79-ca47-783fbbd18005"
      },
      "execution_count": null,
      "outputs": [
        {
          "output_type": "stream",
          "name": "stdout",
          "text": [
            "_____OBSERVATION SPACE_____ \n",
            "\n",
            "Observation Space Discrete(16)\n",
            "Sample observation 0\n"
          ]
        }
      ]
    },
    {
      "cell_type": "code",
      "source": [
        "print(\"\\n _____ACTION SPACE_____ \\n\")\n",
        "print(\"Action Space Shape\", env1.action_space.n)\n",
        "print(\"Action Space Sample\", env1.action_space.sample()) # Take a random action"
      ],
      "metadata": {
        "colab": {
          "base_uri": "https://localhost:8080/"
        },
        "id": "Jct-GuzhHMaN",
        "outputId": "dc529ff9-ca6e-4430-a5a1-8334de636a10"
      },
      "execution_count": null,
      "outputs": [
        {
          "output_type": "stream",
          "name": "stdout",
          "text": [
            "\n",
            " _____ACTION SPACE_____ \n",
            "\n",
            "Action Space Shape 4\n",
            "Action Space Sample 2\n"
          ]
        }
      ]
    },
    {
      "cell_type": "markdown",
      "source": [
        "* 0: GO LEFT\n",
        "* 1: GO DOWN\n",
        "* 2: GO RIGHT\n",
        "* 3: GO UP"
      ],
      "metadata": {
        "id": "rWDqPzYgHXU1"
      }
    },
    {
      "cell_type": "code",
      "source": [
        "env1.reset()\n",
        "env1.render()"
      ],
      "metadata": {
        "id": "gTuu9H6hBM2s"
      },
      "execution_count": null,
      "outputs": []
    },
    {
      "cell_type": "code",
      "source": [
        "env1.render()"
      ],
      "metadata": {
        "id": "jMGiVy_MLUrV"
      },
      "execution_count": null,
      "outputs": []
    },
    {
      "cell_type": "markdown",
      "source": [
        "Frozen Lake Environment 8x8\n",
        "\n",
        "\n"
      ],
      "metadata": {
        "id": "wuCjSbjnIF53"
      }
    },
    {
      "cell_type": "code",
      "source": [
        "new_step_api=True\n",
        "env2 = gym.make('FrozenLake8x8-v1')"
      ],
      "metadata": {
        "id": "-xiNxmT2_0yB"
      },
      "execution_count": null,
      "outputs": []
    },
    {
      "cell_type": "code",
      "source": [
        "action_size = env2.action_space.n\n",
        "state_size = env2.observation_space.n\n",
        "print(f\"Action Space : {action_size} | State Space: {state_size}\")\n",
        "\n",
        "env2.reset()\n",
        "print(\"_____OBSERVATION SPACE_____ \\n\")\n",
        "print(\"Observation Space\", env2.observation_space)\n",
        "print(\"Sample observation\", env2.observation_space.sample()) # Get a random observation\n",
        "\n",
        "print(\"\\n _____ACTION SPACE_____ \\n\")\n",
        "print(\"Action Space Shape\", env2.action_space.n)\n",
        "print(\"Action Space Sample\", env2.action_space.sample()) # Take a random action"
      ],
      "metadata": {
        "colab": {
          "base_uri": "https://localhost:8080/"
        },
        "id": "gv8LgDvB_-6z",
        "outputId": "4136bd6a-5596-496b-edcb-c1250ddce02b"
      },
      "execution_count": null,
      "outputs": [
        {
          "output_type": "stream",
          "name": "stdout",
          "text": [
            "Action Space : 4 | State Space: 64\n",
            "_____OBSERVATION SPACE_____ \n",
            "\n",
            "Observation Space Discrete(64)\n",
            "Sample observation 46\n",
            "\n",
            " _____ACTION SPACE_____ \n",
            "\n",
            "Action Space Shape 4\n",
            "Action Space Sample 3\n"
          ]
        }
      ]
    },
    {
      "cell_type": "markdown",
      "source": [
        "### Step -1 :: Google Colab Cant Render !!!"
      ],
      "metadata": {
        "id": "jPLJ5Fp7NgQV"
      }
    },
    {
      "cell_type": "markdown",
      "source": [
        "Trying Solution For Google Colab - Gym Envt Rendering"
      ],
      "metadata": {
        "id": "juIVkAz5NRRB"
      }
    },
    {
      "cell_type": "code",
      "source": [
        "!apt update && apt install xvfb\n",
        "!pip install gym-notebook-wrapper"
      ],
      "metadata": {
        "colab": {
          "base_uri": "https://localhost:8080/"
        },
        "id": "OUmbq3nXQGND",
        "outputId": "3c6d9c08-5abf-40f8-feee-d680274e40fe"
      },
      "execution_count": null,
      "outputs": [
        {
          "output_type": "stream",
          "name": "stdout",
          "text": [
            "Get:1 https://cloud.r-project.org/bin/linux/ubuntu bionic-cran40/ InRelease [3,626 B]\n",
            "Ign:2 https://developer.download.nvidia.com/compute/machine-learning/repos/ubuntu1804/x86_64  InRelease\n",
            "Hit:3 https://developer.download.nvidia.com/compute/cuda/repos/ubuntu1804/x86_64  InRelease\n",
            "Get:4 http://security.ubuntu.com/ubuntu bionic-security InRelease [88.7 kB]\n",
            "Hit:5 http://ppa.launchpad.net/c2d4u.team/c2d4u4.0+/ubuntu bionic InRelease\n",
            "Hit:6 https://developer.download.nvidia.com/compute/machine-learning/repos/ubuntu1804/x86_64  Release\n",
            "Hit:7 http://archive.ubuntu.com/ubuntu bionic InRelease\n",
            "Get:8 http://archive.ubuntu.com/ubuntu bionic-updates InRelease [88.7 kB]\n",
            "Hit:9 http://ppa.launchpad.net/cran/libgit2/ubuntu bionic InRelease\n",
            "Hit:11 http://ppa.launchpad.net/deadsnakes/ppa/ubuntu bionic InRelease\n",
            "Get:12 http://archive.ubuntu.com/ubuntu bionic-backports InRelease [74.6 kB]\n",
            "Hit:13 http://ppa.launchpad.net/graphics-drivers/ppa/ubuntu bionic InRelease\n",
            "Get:14 http://security.ubuntu.com/ubuntu bionic-security/universe amd64 Packages [1,540 kB]\n",
            "Get:15 http://archive.ubuntu.com/ubuntu bionic-updates/universe amd64 Packages [2,318 kB]\n",
            "Get:16 http://security.ubuntu.com/ubuntu bionic-security/main amd64 Packages [2,965 kB]\n",
            "Get:17 http://archive.ubuntu.com/ubuntu bionic-updates/main amd64 Packages [3,397 kB]\n",
            "Fetched 10.5 MB in 5s (2,236 kB/s)\n",
            "Reading package lists... Done\n",
            "Building dependency tree       \n",
            "Reading state information... Done\n",
            "31 packages can be upgraded. Run 'apt list --upgradable' to see them.\n",
            "Reading package lists... Done\n",
            "Building dependency tree       \n",
            "Reading state information... Done\n",
            "The following package was automatically installed and is no longer required:\n",
            "  libnvidia-common-460\n",
            "Use 'apt autoremove' to remove it.\n",
            "The following NEW packages will be installed:\n",
            "  xvfb\n",
            "0 upgraded, 1 newly installed, 0 to remove and 31 not upgraded.\n",
            "Need to get 785 kB of archives.\n",
            "After this operation, 2,271 kB of additional disk space will be used.\n",
            "Get:1 http://archive.ubuntu.com/ubuntu bionic-updates/universe amd64 xvfb amd64 2:1.19.6-1ubuntu4.11 [785 kB]\n",
            "Fetched 785 kB in 2s (427 kB/s)\n",
            "Selecting previously unselected package xvfb.\n",
            "(Reading database ... 155569 files and directories currently installed.)\n",
            "Preparing to unpack .../xvfb_2%3a1.19.6-1ubuntu4.11_amd64.deb ...\n",
            "Unpacking xvfb (2:1.19.6-1ubuntu4.11) ...\n",
            "Setting up xvfb (2:1.19.6-1ubuntu4.11) ...\n",
            "Processing triggers for man-db (2.8.3-2ubuntu0.1) ...\n",
            "Looking in indexes: https://pypi.org/simple, https://us-python.pkg.dev/colab-wheels/public/simple/\n",
            "Collecting gym-notebook-wrapper\n",
            "  Downloading gym_notebook_wrapper-1.3.2-py3-none-any.whl (9.8 kB)\n",
            "Requirement already satisfied: gym in /usr/local/lib/python3.7/dist-packages (from gym-notebook-wrapper) (0.25.2)\n",
            "Collecting pyvirtualdisplay\n",
            "  Downloading PyVirtualDisplay-3.0-py3-none-any.whl (15 kB)\n",
            "Requirement already satisfied: matplotlib in /usr/local/lib/python3.7/dist-packages (from gym-notebook-wrapper) (3.2.2)\n",
            "Requirement already satisfied: ipython in /usr/local/lib/python3.7/dist-packages (from gym-notebook-wrapper) (7.9.0)\n",
            "Requirement already satisfied: cloudpickle>=1.2.0 in /usr/local/lib/python3.7/dist-packages (from gym->gym-notebook-wrapper) (1.5.0)\n",
            "Requirement already satisfied: gym-notices>=0.0.4 in /usr/local/lib/python3.7/dist-packages (from gym->gym-notebook-wrapper) (0.0.8)\n",
            "Requirement already satisfied: importlib-metadata>=4.8.0 in /usr/local/lib/python3.7/dist-packages (from gym->gym-notebook-wrapper) (4.12.0)\n",
            "Requirement already satisfied: numpy>=1.18.0 in /usr/local/lib/python3.7/dist-packages (from gym->gym-notebook-wrapper) (1.21.6)\n",
            "Requirement already satisfied: typing-extensions>=3.6.4 in /usr/local/lib/python3.7/dist-packages (from importlib-metadata>=4.8.0->gym->gym-notebook-wrapper) (4.1.1)\n",
            "Requirement already satisfied: zipp>=0.5 in /usr/local/lib/python3.7/dist-packages (from importlib-metadata>=4.8.0->gym->gym-notebook-wrapper) (3.8.1)\n",
            "Requirement already satisfied: setuptools>=18.5 in /usr/local/lib/python3.7/dist-packages (from ipython->gym-notebook-wrapper) (57.4.0)\n",
            "Requirement already satisfied: backcall in /usr/local/lib/python3.7/dist-packages (from ipython->gym-notebook-wrapper) (0.2.0)\n",
            "Requirement already satisfied: prompt-toolkit<2.1.0,>=2.0.0 in /usr/local/lib/python3.7/dist-packages (from ipython->gym-notebook-wrapper) (2.0.10)\n",
            "Requirement already satisfied: traitlets>=4.2 in /usr/local/lib/python3.7/dist-packages (from ipython->gym-notebook-wrapper) (5.1.1)\n",
            "Requirement already satisfied: decorator in /usr/local/lib/python3.7/dist-packages (from ipython->gym-notebook-wrapper) (4.4.2)\n",
            "Requirement already satisfied: pexpect in /usr/local/lib/python3.7/dist-packages (from ipython->gym-notebook-wrapper) (4.8.0)\n",
            "Collecting jedi>=0.10\n",
            "  Downloading jedi-0.18.1-py2.py3-none-any.whl (1.6 MB)\n",
            "\u001b[K     |████████████████████████████████| 1.6 MB 4.3 MB/s \n",
            "\u001b[?25hRequirement already satisfied: pickleshare in /usr/local/lib/python3.7/dist-packages (from ipython->gym-notebook-wrapper) (0.7.5)\n",
            "Requirement already satisfied: pygments in /usr/local/lib/python3.7/dist-packages (from ipython->gym-notebook-wrapper) (2.6.1)\n",
            "Requirement already satisfied: parso<0.9.0,>=0.8.0 in /usr/local/lib/python3.7/dist-packages (from jedi>=0.10->ipython->gym-notebook-wrapper) (0.8.3)\n",
            "Requirement already satisfied: six>=1.9.0 in /usr/local/lib/python3.7/dist-packages (from prompt-toolkit<2.1.0,>=2.0.0->ipython->gym-notebook-wrapper) (1.15.0)\n",
            "Requirement already satisfied: wcwidth in /usr/local/lib/python3.7/dist-packages (from prompt-toolkit<2.1.0,>=2.0.0->ipython->gym-notebook-wrapper) (0.2.5)\n",
            "Requirement already satisfied: cycler>=0.10 in /usr/local/lib/python3.7/dist-packages (from matplotlib->gym-notebook-wrapper) (0.11.0)\n",
            "Requirement already satisfied: kiwisolver>=1.0.1 in /usr/local/lib/python3.7/dist-packages (from matplotlib->gym-notebook-wrapper) (1.4.4)\n",
            "Requirement already satisfied: python-dateutil>=2.1 in /usr/local/lib/python3.7/dist-packages (from matplotlib->gym-notebook-wrapper) (2.8.2)\n",
            "Requirement already satisfied: pyparsing!=2.0.4,!=2.1.2,!=2.1.6,>=2.0.1 in /usr/local/lib/python3.7/dist-packages (from matplotlib->gym-notebook-wrapper) (3.0.9)\n",
            "Requirement already satisfied: ptyprocess>=0.5 in /usr/local/lib/python3.7/dist-packages (from pexpect->ipython->gym-notebook-wrapper) (0.7.0)\n",
            "Installing collected packages: jedi, pyvirtualdisplay, gym-notebook-wrapper\n",
            "Successfully installed gym-notebook-wrapper-1.3.2 jedi-0.18.1 pyvirtualdisplay-3.0\n"
          ]
        }
      ]
    },
    {
      "cell_type": "code",
      "source": [
        "import gnwrapper"
      ],
      "metadata": {
        "id": "56rLU6ILQEcs"
      },
      "execution_count": null,
      "outputs": []
    },
    {
      "cell_type": "code",
      "source": [
        "env = gnwrapper.Animation(gym.make('FrozenLake-v1')) # Start Xvfb\n",
        "\n",
        "o = env.reset()\n",
        "\n",
        "for _ in range(100):\n",
        "    o, r, d, i = env.step(env.action_space.sample()) # Take action from DNN\n",
        "    env.render() # Here, clear old display and redraw new display\n",
        "    if d:\n",
        "        env.reset()"
      ],
      "metadata": {
        "colab": {
          "base_uri": "https://localhost:8080/",
          "height": 479
        },
        "id": "fk24jAJcTQqg",
        "outputId": "f3d1ab12-cba0-4440-eb28-b13f82e1b31f"
      },
      "execution_count": null,
      "outputs": [
        {
          "output_type": "display_data",
          "data": {
            "text/plain": [
              "<Figure size 432x288 with 1 Axes>"
            ],
            "image/png": "[encoded data removed]"
          },
          "metadata": {}
        },
        {
          "output_type": "display_data",
          "data": {
            "text/plain": [
              "<Figure size 432x288 with 1 Axes>"
            ],
            "image/png": "[encoded data removed]"
          },
          "metadata": {
            "needs_background": "light"
          }
        }
      ]
    },
    {
      "cell_type": "code",
      "source": [
        "env = gnwrapper.LoopAnimation(gym.make('FrozenLake-v1')) # Start Xvfb\n",
        "\n",
        "o = env.reset()\n",
        "\n",
        "for _ in range(100):\n",
        "    o, r, d, i = env.step(env.action_space.sample()) # Take action from DNN\n",
        "    env.render() # Here, store display images\n",
        "    if d:\n",
        "        env.reset()\n",
        "\n",
        "env.display() # Display saved display images as animation"
      ],
      "metadata": {
        "colab": {
          "base_uri": "https://localhost:8080/",
          "height": 672
        },
        "id": "gZP_W2PVTj75",
        "outputId": "857574f0-5445-4c65-e323-adabc03e1b21"
      },
      "execution_count": null,
      "outputs": []
    },
    {
      "cell_type": "code",
      "source": [
        "env = gnwrapper.Monitor(gym.make('FrozenLake-v1' ),directory=\"./\") # Start Xvfb\n",
        "o = env.reset()\n",
        "\n",
        "for _ in range(100):\n",
        "    o, r, d, i = env.step(env.action_space.sample()) # Take action from DNN\n",
        "    if d:\n",
        "        env.reset()\n",
        "\n",
        "env.display() # Here, display saved display images as movies\n"
      ],
      "metadata": {
        "colab": {
          "base_uri": "https://localhost:8080/",
          "height": 1000
        },
        "id": "AlakUhMCRGa6",
        "outputId": "046aa897-57b9-4c9b-b9eb-492e94ca4fe1"
      },
      "execution_count": null,
      "outputs": [
        {
          "output_type": "stream",
          "name": "stderr",
          "text": [
            "/usr/local/lib/python3.7/dist-packages/gym/core.py:318: DeprecationWarning: \u001b[33mWARN: Initializing wrapper in old step API which returns one bool instead of two. It is recommended to set `new_step_api=True` to use new step API. This will be the default behaviour in future.\u001b[0m\n",
            "  \"Initializing wrapper in old step API which returns one bool instead of two. It is recommended to set `new_step_api=True` to use new step API. This will be the default behaviour in future.\"\n",
            "/usr/local/lib/python3.7/dist-packages/gym/wrappers/step_api_compatibility.py:40: DeprecationWarning: \u001b[33mWARN: Initializing environment in old step API which returns one bool instead of two. It is recommended to set `new_step_api=True` to use new step API. This will be the default behaviour in future.\u001b[0m\n",
            "  \"Initializing environment in old step API which returns one bool instead of two. It is recommended to set `new_step_api=True` to use new step API. This will be the default behaviour in future.\"\n",
            "/usr/local/lib/python3.7/dist-packages/gym/wrappers/record_video.py:79: UserWarning: \u001b[33mWARN: Overwriting existing videos at /content folder (try specifying a different `video_folder` for the `RecordVideo` wrapper if this is not desired)\u001b[0m\n",
            "  f\"Overwriting existing videos at {self.video_folder} folder \"\n",
            "/usr/local/lib/python3.7/dist-packages/gym/wrappers/monitoring/video_recorder.py:79: DeprecationWarning: \u001b[33mWARN: Recording ability for environment FrozenLake-v1 initialized with `render_mode=None` is marked as deprecated and will be removed in the future.\u001b[0m\n",
            "  f\"Recording ability for environment {env.spec.id} initialized with `render_mode=None` is marked \"\n",
            "/usr/local/lib/python3.7/dist-packages/gym/core.py:44: DeprecationWarning: \u001b[33mWARN: The argument mode in render method is deprecated; use render_mode during environment initialization instead.\n",
            "See here for more information: https://www.gymlibrary.ml/content/api/\u001b[0m\n",
            "  \"The argument mode in render method is deprecated; \"\n",
            "/usr/local/lib/python3.7/dist-packages/gym/core.py:44: DeprecationWarning: \u001b[33mWARN: The argument mode in render method is deprecated; use render_mode during environment initialization instead.\n",
            "See here for more information: https://www.gymlibrary.ml/content/api/\u001b[0m\n",
            "  \"The argument mode in render method is deprecated; \"\n",
            "/usr/local/lib/python3.7/dist-packages/gym/wrappers/monitoring/video_recorder.py:79: DeprecationWarning: \u001b[33mWARN: Recording ability for environment FrozenLake-v1 initialized with `render_mode=None` is marked as deprecated and will be removed in the future.\u001b[0m\n",
            "  f\"Recording ability for environment {env.spec.id} initialized with `render_mode=None` is marked \"\n",
            "/usr/local/lib/python3.7/dist-packages/gym/core.py:44: DeprecationWarning: \u001b[33mWARN: The argument mode in render method is deprecated; use render_mode during environment initialization instead.\n",
            "See here for more information: https://www.gymlibrary.ml/content/api/\u001b[0m\n",
            "  \"The argument mode in render method is deprecated; \"\n",
            "/usr/local/lib/python3.7/dist-packages/gym/wrappers/monitoring/video_recorder.py:79: DeprecationWarning: \u001b[33mWARN: Recording ability for environment FrozenLake-v1 initialized with `render_mode=None` is marked as deprecated and will be removed in the future.\u001b[0m\n",
            "  f\"Recording ability for environment {env.spec.id} initialized with `render_mode=None` is marked \"\n",
            "/usr/local/lib/python3.7/dist-packages/gym/wrappers/monitoring/video_recorder.py:79: DeprecationWarning: \u001b[33mWARN: Recording ability for environment FrozenLake-v1 initialized with `render_mode=None` is marked as deprecated and will be removed in the future.\u001b[0m\n",
            "  f\"Recording ability for environment {env.spec.id} initialized with `render_mode=None` is marked \"\n",
            "/usr/local/lib/python3.7/dist-packages/gym/core.py:44: DeprecationWarning: \u001b[33mWARN: The argument mode in render method is deprecated; use render_mode during environment initialization instead.\n",
            "See here for more information: https://www.gymlibrary.ml/content/api/\u001b[0m\n",
            "  \"The argument mode in render method is deprecated; \"\n",
            "/usr/local/lib/python3.7/dist-packages/gym/core.py:44: DeprecationWarning: \u001b[33mWARN: The argument mode in render method is deprecated; use render_mode during environment initialization instead.\n",
            "See here for more information: https://www.gymlibrary.ml/content/api/\u001b[0m\n",
            "  \"The argument mode in render method is deprecated; \"\n"
          ]
        },
        {
          "output_type": "display_data",
          "data": {
            "text/plain": [
              "'rl-video-episode-0.mp4'"
            ],
            "application/vnd.google.colaboratory.intrinsic+json": {
              "type": "string"
            }
          },
          "metadata": {}
        },
        {
          "output_type": "display_data",
          "data": {
            "text/plain": [
              "<IPython.core.display.HTML object>"
            ],
            "text/html": [
              "\n",
              "            <video alt=\"test\" controls>\n",
              "            <source src=\"data:video/mp4;base64,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\" type=\"video/mp4\" />\n",
              "            </video>\n",
              "            "
            ]
          },
          "metadata": {}
        },
        {
          "output_type": "display_data",
          "data": {
            "text/plain": [
              "'rl-video-episode-1.mp4'"
            ],
            "application/vnd.google.colaboratory.intrinsic+json": {
              "type": "string"
            }
          },
          "metadata": {}
        },
        {
          "output_type": "display_data",
          "data": {
            "text/plain": [
              "<IPython.core.display.HTML object>"
            ],
            "text/html": [
              "\n",
              "            <video alt=\"test\" controls>\n",
              "            <source src=\"data:video/mp4;base64,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\" type=\"video/mp4\" />\n",
              "            </video>\n",
              "            "
            ]
          },
          "metadata": {}
        },
        {
          "output_type": "display_data",
          "data": {
            "text/plain": [
              "'rl-video-episode-8.mp4'"
            ],
            "application/vnd.google.colaboratory.intrinsic+json": {
              "type": "string"
            }
          },
          "metadata": {}
        },
        {
          "output_type": "display_data",
          "data": {
            "text/plain": [
              "<IPython.core.display.HTML object>"
            ],
            "text/html": [
              "\n",
              "            <video alt=\"test\" controls>\n",
              "            <source src=\"data:video/mp4;base64,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\" type=\"video/mp4\" />\n",
              "            </video>\n",
              "            "
            ]
          },
          "metadata": {}
        },
        {
          "output_type": "display_data",
          "data": {
            "text/plain": [
              "'rl-video-episode-8.mp4'"
            ],
            "application/vnd.google.colaboratory.intrinsic+json": {
              "type": "string"
            }
          },
          "metadata": {}
        },
        {
          "output_type": "display_data",
          "data": {
            "text/plain": [
              "<IPython.core.display.HTML object>"
            ],
            "text/html": [
              "\n",
              "            <video alt=\"test\" controls>\n",
              "            <source src=\"data:video/mp4;base64,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\" type=\"video/mp4\" />\n",
              "            </video>\n",
              "            "
            ]
          },
          "metadata": {}
        }
      ]
    },
    {
      "cell_type": "code",
      "source": [],
      "metadata": {
        "id": "wVkoyMN0TJjo"
      },
      "execution_count": null,
      "outputs": []
    },
    {
      "cell_type": "markdown",
      "source": [
        "### Computing Optimal Value Function -Solving Frozen Lake Using Value Iteration\n",
        "\n"
      ],
      "metadata": {
        "id": "h9FVRyw-htLS"
      }
    },
    {
      "cell_type": "code",
      "source": [
        "def value_iteration(env):\n",
        "\n",
        "    #set the number of iterations\n",
        "    num_iterations = 1000\n",
        "    \n",
        "    #set the threshold number for checking the convergence of the value function\n",
        "    threshold = 1e-20\n",
        "    \n",
        "    #we also set the discount factor\n",
        "    gamma = 1.0\n",
        "    \n",
        "    #now, we will initialize the value table, with the value of all states to zero\n",
        "    value_table = np.zeros(env.observation_space.n)\n",
        "    \n",
        "    #for every iteration\n",
        "    for i in range(num_iterations):\n",
        "        \n",
        "        #update the value table, that is, we learned that on every iteration, we use the updated value\n",
        "        #table (state values) from the previous iteration\n",
        "        updated_value_table = np.copy(value_table) \n",
        "             \n",
        "        #now, we compute the value function (state value) by taking the maximum of Q value.\n",
        "        \n",
        "        #thus, for each state, we compute the Q values of all the actions in the state and then\n",
        "        #we update the value of the state as the one which has maximum Q value as shown below:\n",
        "        for s in range(env.observation_space.n):\n",
        "            \n",
        "            Q_values = [sum([prob*(r + gamma * updated_value_table[s_])\n",
        "                             for prob, s_, r, _ in env.P[s][a]]) \n",
        "                                   for a in range(env.action_space.n)] \n",
        "                                        \n",
        "            value_table[s] = max(Q_values) \n",
        "                        \n",
        "        #after computing the value table, that is, value of all the states, we check whether the\n",
        "        #difference between value table obtained in the current iteration and previous iteration is\n",
        "        #less than or equal to a threshold value if it is less then we break the loop and return the\n",
        "        #value table as our optimal value function as shown below:\n",
        "    \n",
        "        if (np.sum(np.fabs(updated_value_table - value_table)) <= threshold):\n",
        "             break\n",
        "    \n",
        "    return value_table"
      ],
      "metadata": {
        "id": "KB_hAgBthyOX"
      },
      "execution_count": null,
      "outputs": []
    },
    {
      "cell_type": "code",
      "source": [
        "def extract_policy(value_table):\n",
        "    \n",
        "    #set the discount factor\n",
        "    gamma = 1.0\n",
        "     \n",
        "    #first, we initialize the policy with zeros, that is, first, we set the actions for all the states to\n",
        "    #be zero\n",
        "    policy = np.zeros(env.observation_space.n) \n",
        "    \n",
        "    #now, we compute the Q function using the optimal value function obtained from the\n",
        "    #previous step. After computing the Q function, we can extract policy by selecting action which has\n",
        "    #maximum Q value. Since we are computing the Q function using the optimal value\n",
        "    #function, the policy extracted from the Q function will be the optimal policy. \n",
        "    \n",
        "    #As shown below, for each state, we compute the Q values for all the actions in the state and\n",
        "    #then we extract policy by selecting the action which has maximum Q value.\n",
        "    \n",
        "    #for each state\n",
        "    for s in range(env.observation_space.n):\n",
        "        \n",
        "        #compute the Q value of all the actions in the state\n",
        "        Q_values = [sum([prob*(r + gamma * value_table[s_])\n",
        "                             for prob, s_, r, _ in env.P[s][a]]) \n",
        "                                   for a in range(env.action_space.n)] \n",
        "                \n",
        "        #extract policy by selecting the action which has maximum Q value\n",
        "        policy[s] = np.argmax(np.array(Q_values))        \n",
        "    \n",
        "    return policy"
      ],
      "metadata": {
        "id": "aFVO6zAgh9SW"
      },
      "execution_count": null,
      "outputs": []
    },
    {
      "cell_type": "code",
      "source": [
        "optimal_value_function = value_iteration(env=env1)"
      ],
      "metadata": {
        "id": "0O8MiUZeiGX9"
      },
      "execution_count": null,
      "outputs": []
    },
    {
      "cell_type": "code",
      "source": [
        "optimal_policy = extract_policy(optimal_value_function)"
      ],
      "metadata": {
        "id": "TsYHqnAYiIjd"
      },
      "execution_count": null,
      "outputs": []
    },
    {
      "cell_type": "code",
      "source": [
        "print(optimal_policy)"
      ],
      "metadata": {
        "colab": {
          "base_uri": "https://localhost:8080/"
        },
        "id": "t6cU7fn4iSDn",
        "outputId": "6dcd6756-dc15-4ab3-da6a-c232ecc24b4f"
      },
      "execution_count": null,
      "outputs": [
        {
          "output_type": "stream",
          "name": "stdout",
          "text": [
            "[0. 3. 0. 3. 0. 0. 0. 0. 3. 1. 0. 0. 0. 2. 0. 0.]\n"
          ]
        }
      ]
    },
    {
      "cell_type": "code",
      "source": [
        "env3 = gym.make('FrozenLake-v1')\n",
        "env4 = gym.make('FrozenLake8x8-v1')\n",
        "env3.reset()\n",
        "env4.reset()\n"
      ],
      "metadata": {
        "colab": {
          "base_uri": "https://localhost:8080/"
        },
        "id": "sx7jx1ESbHRD",
        "outputId": "c02a0c73-68a1-41a8-9894-abd861275eee"
      },
      "execution_count": null,
      "outputs": [
        {
          "output_type": "execute_result",
          "data": {
            "text/plain": [
              "0"
            ]
          },
          "metadata": {},
          "execution_count": 60
        }
      ]
    },
    {
      "cell_type": "code",
      "source": [
        "optimal_value_function = value_iteration(env=env3)\n",
        "optimal_policy = extract_policy(optimal_value_function)\n",
        "print(optimal_policy)"
      ],
      "metadata": {
        "colab": {
          "base_uri": "https://localhost:8080/"
        },
        "id": "vOXARgKjbU6A",
        "outputId": "8ce44bd4-e814-44c7-ea13-875c273d2f41"
      },
      "execution_count": null,
      "outputs": [
        {
          "output_type": "stream",
          "name": "stdout",
          "text": [
            "[0. 3. 3. 3. 0. 0. 0. 0. 3. 1. 0. 0. 0. 2. 1. 0.]\n"
          ]
        }
      ]
    },
    {
      "cell_type": "code",
      "source": [
        "optimal_value_function = value_iteration(env=env4)\n",
        "optimal_policy = extract_policy(optimal_value_function)\n",
        "print(optimal_policy)"
      ],
      "metadata": {
        "colab": {
          "base_uri": "https://localhost:8080/"
        },
        "id": "hgGaejYjbhpO",
        "outputId": "8b2f0b83-2071-4c22-f573-7688ff5371fc"
      },
      "execution_count": null,
      "outputs": [
        {
          "output_type": "stream",
          "name": "stdout",
          "text": [
            "[1. 2. 2. 2. 3. 0. 3. 0. 2. 2. 2. 0. 0. 1. 1. 0.]\n"
          ]
        }
      ]
    },
    {
      "cell_type": "code",
      "source": [
        "env5 = gym.make('FrozenLake8x8-v1', is_slippery=False )\n",
        "env5.reset()"
      ],
      "metadata": {
        "colab": {
          "base_uri": "https://localhost:8080/"
        },
        "id": "HjxOvdsLb1LZ",
        "outputId": "a77b5097-2a9d-48a6-b16c-d557193a6a1e"
      },
      "execution_count": null,
      "outputs": [
        {
          "output_type": "stream",
          "name": "stderr",
          "text": [
            "/usr/local/lib/python3.7/dist-packages/gym/core.py:318: DeprecationWarning: \u001b[33mWARN: Initializing wrapper in old step API which returns one bool instead of two. It is recommended to set `new_step_api=True` to use new step API. This will be the default behaviour in future.\u001b[0m\n",
            "  \"Initializing wrapper in old step API which returns one bool instead of two. It is recommended to set `new_step_api=True` to use new step API. This will be the default behaviour in future.\"\n",
            "/usr/local/lib/python3.7/dist-packages/gym/wrappers/step_api_compatibility.py:40: DeprecationWarning: \u001b[33mWARN: Initializing environment in old step API which returns one bool instead of two. It is recommended to set `new_step_api=True` to use new step API. This will be the default behaviour in future.\u001b[0m\n",
            "  \"Initializing environment in old step API which returns one bool instead of two. It is recommended to set `new_step_api=True` to use new step API. This will be the default behaviour in future.\"\n"
          ]
        },
        {
          "output_type": "execute_result",
          "data": {
            "text/plain": [
              "0"
            ]
          },
          "metadata": {},
          "execution_count": 63
        }
      ]
    },
    {
      "cell_type": "code",
      "source": [
        "optimal_value_function = value_iteration(env=env5)\n",
        "optimal_policy = extract_policy(optimal_value_function)\n",
        "print(optimal_policy)"
      ],
      "metadata": {
        "colab": {
          "base_uri": "https://localhost:8080/"
        },
        "id": "ZtLpLCs_cQ7-",
        "outputId": "abbe9c63-c236-4e77-853c-b36d30b33055"
      },
      "execution_count": null,
      "outputs": [
        {
          "output_type": "stream",
          "name": "stdout",
          "text": [
            "[0. 0. 0. 0. 0. 0. 0. 0. 0. 0. 0. 0. 0. 0. 1. 0.]\n"
          ]
        }
      ]
    },
    {
      "cell_type": "markdown",
      "source": [
        "### Computing value function using policy - Solving Frozen Lake Using Policy Iteration"
      ],
      "metadata": {
        "id": "Fs9dFH8mivI0"
      }
    },
    {
      "cell_type": "code",
      "source": [
        "def compute_value_function(policy):\n",
        "    \n",
        "    #now, let's define the number of iterations\n",
        "    num_iterations = 1000\n",
        "    \n",
        "    #define the threshold value\n",
        "    threshold = 1e-20\n",
        "    \n",
        "    #set the discount factor\n",
        "    gamma = 1.0\n",
        "    \n",
        "    #now, we will initialize the value table, with the value of all states to zero\n",
        "    value_table = np.zeros(env.observation_space.n)\n",
        "    \n",
        "    #for every iteration\n",
        "    for i in range(num_iterations):\n",
        "        \n",
        "        #update the value table, that is, we learned that on every iteration, we use the updated value\n",
        "        #table (state values) from the previous iteration\n",
        "        updated_value_table = np.copy(value_table)\n",
        "        \n",
        "        \n",
        "\n",
        "        #thus, for each state, we select the action according to the given policy and then we update the\n",
        "        #value of the state using the selected action as shown below\n",
        "        \n",
        "        #for each state\n",
        "        for s in range(env.observation_space.n):\n",
        "            \n",
        "            #select the action in the state according to the policy\n",
        "            a = policy[s]\n",
        "            \n",
        "            #compute the value of the state using the selected action\n",
        "            value_table[s] = sum([prob * (r + gamma * updated_value_table[s_]) \n",
        "                                        for prob, s_, r, _ in env.P[s][a]])\n",
        "            \n",
        "        #after computing the value table, that is, value of all the states, we check whether the\n",
        "        #difference between value table obtained in the current iteration and previous iteration is\n",
        "        #less than or equal to a threshold value if it is less then we break the loop and return the\n",
        "        #value table as an accurate value function of the given policy\n",
        "\n",
        "        if (np.sum((np.fabs(updated_value_table - value_table))) <= threshold):\n",
        "            break\n",
        "            \n",
        "    return value_table"
      ],
      "metadata": {
        "id": "HtGYjln2jIft"
      },
      "execution_count": null,
      "outputs": []
    },
    {
      "cell_type": "code",
      "source": [
        "def extract_policy(value_table):\n",
        "    \n",
        "    #set the discount factor\n",
        "    gamma = 1.0\n",
        "     \n",
        "    #first, we initialize the policy with zeros, that is, first, we set the actions for all the states to\n",
        "    #be zero\n",
        "    policy = np.zeros(env.observation_space.n) \n",
        "    \n",
        "    #now, we compute the Q function using the optimal value function obtained from the\n",
        "    #previous step. After computing the Q function, we can extract policy by selecting action which has\n",
        "    #maximum Q value. Since we are computing the Q function using the optimal value\n",
        "    #function, the policy extracted from the Q function will be the optimal policy. \n",
        "    \n",
        "    #As shown below, for each state, we compute the Q values for all the actions in the state and\n",
        "    #then we extract policy by selecting the action which has maximum Q value.\n",
        "    \n",
        "    #for each state\n",
        "    for s in range(env.observation_space.n):\n",
        "        \n",
        "        #compute the Q value of all the actions in the state\n",
        "        Q_values = [sum([prob*(r + gamma * value_table[s_])\n",
        "                             for prob, s_, r, _ in env.P[s][a]]) \n",
        "                                   for a in range(env.action_space.n)] \n",
        "                \n",
        "        #extract policy by selecting the action which has maximum Q value\n",
        "        policy[s] = np.argmax(np.array(Q_values))        \n",
        "    \n",
        "    return policy"
      ],
      "metadata": {
        "id": "pWoic5bgjPSA"
      },
      "execution_count": null,
      "outputs": []
    },
    {
      "cell_type": "code",
      "source": [
        "def policy_iteration(env):\n",
        "    \n",
        "    #set the number of iterations\n",
        "    num_iterations = 1000\n",
        "    \n",
        "    #we learned that in the policy iteration method, we begin by initializing a random policy.\n",
        "    #so, we will initialize the random policy which selects the action 0 in all the states\n",
        "    policy = np.zeros(env.observation_space.n)  \n",
        "    \n",
        "    #for every iteration\n",
        "    for i in range(num_iterations):\n",
        "        #compute the value function using the policy\n",
        "        value_function = compute_value_function(policy)\n",
        "        \n",
        "        #extract the new policy from the computed value function\n",
        "        new_policy = extract_policy(value_function)\n",
        "           \n",
        "        #if the policy and new_policy are same then break the loop\n",
        "        if (np.all(policy == new_policy)):\n",
        "            break\n",
        "        \n",
        "        #else, update the current policy to new_policy\n",
        "        policy = new_policy\n",
        "        \n",
        "    return policy"
      ],
      "metadata": {
        "id": "undMdVtSjUrI"
      },
      "execution_count": null,
      "outputs": []
    },
    {
      "cell_type": "code",
      "source": [
        "optimal_policy = policy_iteration(env1)"
      ],
      "metadata": {
        "id": "cXBuRm2jjXwu"
      },
      "execution_count": null,
      "outputs": []
    },
    {
      "cell_type": "code",
      "source": [
        "print(optimal_policy)"
      ],
      "metadata": {
        "colab": {
          "base_uri": "https://localhost:8080/"
        },
        "id": "hfu2j8W-jaIo",
        "outputId": "7dd79f10-26d1-43f2-b7b3-69e964b1bf8c"
      },
      "execution_count": null,
      "outputs": [
        {
          "output_type": "stream",
          "name": "stdout",
          "text": [
            "[0. 3. 3. 3. 0. 0. 0. 0. 3. 1. 0. 0. 0. 2. 1. 0.]\n"
          ]
        }
      ]
    },
    {
      "cell_type": "markdown",
      "source": [
        "### On Policy MC for Control"
      ],
      "metadata": {
        "id": "XqX1Xvocjex_"
      }
    },
    {
      "cell_type": "code",
      "source": [
        " env = gym.make(\"FrozenLake-v1\") ## Redefine the env"
      ],
      "metadata": {
        "id": "kydGNInzgU7x"
      },
      "execution_count": null,
      "outputs": []
    },
    {
      "cell_type": "code",
      "source": [
        "from collections import defaultdict\n",
        "Q = defaultdict(float) # Dictionary for storing the Q values:"
      ],
      "metadata": {
        "id": "35EZM0oUj7S-"
      },
      "execution_count": null,
      "outputs": []
    },
    {
      "cell_type": "code",
      "source": [
        "total_return = defaultdict(float) # Dictionary for storing the total return of the state-action pair:"
      ],
      "metadata": {
        "id": "m07VvI0ekBC0"
      },
      "execution_count": null,
      "outputs": []
    },
    {
      "cell_type": "code",
      "source": [
        "N = defaultdict(int) # Dictionary for storing the count of the number of times a state-action pair is visited:"
      ],
      "metadata": {
        "id": "ehpE4P1NkFgX"
      },
      "execution_count": null,
      "outputs": []
    },
    {
      "cell_type": "code",
      "source": [
        "def epsilon_greedy_policy(state,Q):\n",
        "    \n",
        "    #set the epsilon value to 0.5\n",
        "    epsilon = 0.5\n",
        "    \n",
        "    #sample a random value from the uniform distribution, if the sampled value is less than\n",
        "    #epsilon then we select a random action else we select the best action which has maximum Q\n",
        "    #value as shown below\n",
        "    \n",
        "    if random.uniform(0,1) < epsilon:\n",
        "        return env.action_space.sample()\n",
        "    else:\n",
        "        return max(list(range(env.action_space.n)), key = lambda x: Q[(state,x)])\n"
      ],
      "metadata": {
        "id": "BpOm8QjzkSY0"
      },
      "execution_count": null,
      "outputs": []
    },
    {
      "cell_type": "code",
      "source": [
        "num_timesteps = 100"
      ],
      "metadata": {
        "id": "y9Ijuuq2kX8E"
      },
      "execution_count": null,
      "outputs": []
    },
    {
      "cell_type": "code",
      "source": [
        "def generate_episode(Q):\n",
        "    \n",
        "    #initialize a list for storing the episode\n",
        "    episode = []\n",
        "    \n",
        "    #initialize the state using the reset function\n",
        "    state = env.reset()\n",
        "    \n",
        "    #then for each time step\n",
        "    for t in range(num_timesteps):\n",
        "        \n",
        "        #select the action according to the epsilon-greedy policy\n",
        "        action = epsilon_greedy_policy(state,Q)\n",
        "        \n",
        "        #perform the selected action and store the next state information\n",
        "        next_state, reward, done, info = env.step(action)\n",
        "        \n",
        "        #store the state, action, reward in the episode list\n",
        "        episode.append((state, action, reward))\n",
        "        \n",
        "        #if the next state is a final state then break the loop else update the next state to the current\n",
        "        #state\n",
        "        if done:\n",
        "            break\n",
        "            \n",
        "        state = next_state\n",
        "\n",
        "    return episode"
      ],
      "metadata": {
        "id": "9iavMSNtkZx7"
      },
      "execution_count": null,
      "outputs": []
    },
    {
      "cell_type": "code",
      "source": [
        "num_iterations = 50000"
      ],
      "metadata": {
        "id": "bcYmwlvskcEv"
      },
      "execution_count": null,
      "outputs": []
    },
    {
      "cell_type": "markdown",
      "source": [
        "We learned that in the on-policy control method, we will not be given any policy as an input. So, we initialize a random policy in the first iteration and improve the policy iteratively by computing Q value. Since we extract the policy from the Q function, we don't have to explicitly define the policy. As the Q value improves the policy also improves implicitly. That is, in the first iteration we generate episode by extracting the policy (epsilon-greedy) from the initialized Q function. Over a series of iterations, we will find the optimal Q function and hence we also find the optimal policy."
      ],
      "metadata": {
        "id": "CcFf7TXAk4c6"
      }
    },
    {
      "cell_type": "code",
      "source": [
        "#for each iteration\n",
        "for i in range(num_iterations):\n",
        "    \n",
        "    #so, here we pass our initialized Q function to generate an episode\n",
        "    episode = generate_episode(Q)\n",
        "    \n",
        "    #get all the state-action pairs in the episode\n",
        "    all_state_action_pairs = [(s, a) for (s,a,r) in episode]\n",
        "    \n",
        "    #store all the rewards obtained in the episode in the rewards list\n",
        "    rewards = [r for (s,a,r) in episode]\n",
        "\n",
        "    #for each step in the episode \n",
        "    for t, (state, action, reward) in enumerate(episode):\n",
        "\n",
        "        #if the state-action pair is occurring for the first time in the episode\n",
        "        if not (state, action) in all_state_action_pairs[0:t]:\n",
        "            \n",
        "            #compute the return R of the state-action pair as the sum of rewards\n",
        "            R = sum(rewards[t:])\n",
        "            \n",
        "            #update total return of the state-action pair\n",
        "            total_return[(state,action)] = total_return[(state,action)] + R\n",
        "            \n",
        "            #update the number of times the state-action pair is visited\n",
        "            N[(state, action)] += 1\n",
        "\n",
        "            #compute the Q value by just taking the average\n",
        "            Q[(state,action)] = total_return[(state, action)] / N[(state, action)]"
      ],
      "metadata": {
        "id": "0uB-FDJ7keI7"
      },
      "execution_count": null,
      "outputs": []
    },
    {
      "cell_type": "code",
      "source": [
        "import pandas as pd\n",
        "df = pd.DataFrame(Q.items(),columns=['state_action pair','value'])"
      ],
      "metadata": {
        "id": "RXjaF9FWk8vo"
      },
      "execution_count": null,
      "outputs": []
    },
    {
      "cell_type": "code",
      "source": [
        "df.head(19)"
      ],
      "metadata": {
        "colab": {
          "base_uri": "https://localhost:8080/",
          "height": 645
        },
        "id": "5QdwTH67lO5v",
        "outputId": "a8c78c7c-75d5-43c9-e83d-b4d7eed458e6"
      },
      "execution_count": null,
      "outputs": [
        {
          "output_type": "execute_result",
          "data": {
            "text/plain": [
              "   state_action pair     value\n",
              "0             (0, 0)  0.072418\n",
              "1             (0, 1)  0.067679\n",
              "2             (0, 2)  0.066245\n",
              "3             (0, 3)  0.066595\n",
              "4             (8, 0)  0.062665\n",
              "5             (8, 1)  0.108998\n",
              "6             (8, 2)  0.091504\n",
              "7             (8, 3)  0.130886\n",
              "8             (4, 0)  0.086364\n",
              "9             (4, 1)  0.063467\n",
              "10            (4, 2)  0.062001\n",
              "11            (4, 3)  0.046503\n",
              "12            (1, 1)  0.049212\n",
              "13            (1, 0)  0.041132\n",
              "14            (1, 2)  0.041692\n",
              "15            (1, 3)  0.066312\n",
              "16           (10, 0)  0.298784\n",
              "17           (10, 1)  0.260684\n",
              "18           (10, 2)  0.217391"
            ],
            "text/html": [
              "\n",
              "  <div id=\"df-139e0d4e-a86f-4403-9815-c62a119f2e0a\">\n",
              "    <div class=\"colab-df-container\">\n",
              "      <div>\n",
              "<style scoped>\n",
              "    .dataframe tbody tr th:only-of-type {\n",
              "        vertical-align: middle;\n",
              "    }\n",
              "\n",
              "    .dataframe tbody tr th {\n",
              "        vertical-align: top;\n",
              "    }\n",
              "\n",
              "    .dataframe thead th {\n",
              "        text-align: right;\n",
              "    }\n",
              "</style>\n",
              "<table border=\"1\" class=\"dataframe\">\n",
              "  <thead>\n",
              "    <tr style=\"text-align: right;\">\n",
              "      <th></th>\n",
              "      <th>state_action pair</th>\n",
              "      <th>value</th>\n",
              "    </tr>\n",
              "  </thead>\n",
              "  <tbody>\n",
              "    <tr>\n",
              "      <th>0</th>\n",
              "      <td>(0, 0)</td>\n",
              "      <td>0.072418</td>\n",
              "    </tr>\n",
              "    <tr>\n",
              "      <th>1</th>\n",
              "      <td>(0, 1)</td>\n",
              "      <td>0.067679</td>\n",
              "    </tr>\n",
              "    <tr>\n",
              "      <th>2</th>\n",
              "      <td>(0, 2)</td>\n",
              "      <td>0.066245</td>\n",
              "    </tr>\n",
              "    <tr>\n",
              "      <th>3</th>\n",
              "      <td>(0, 3)</td>\n",
              "      <td>0.066595</td>\n",
              "    </tr>\n",
              "    <tr>\n",
              "      <th>4</th>\n",
              "      <td>(8, 0)</td>\n",
              "      <td>0.062665</td>\n",
              "    </tr>\n",
              "    <tr>\n",
              "      <th>5</th>\n",
              "      <td>(8, 1)</td>\n",
              "      <td>0.108998</td>\n",
              "    </tr>\n",
              "    <tr>\n",
              "      <th>6</th>\n",
              "      <td>(8, 2)</td>\n",
              "      <td>0.091504</td>\n",
              "    </tr>\n",
              "    <tr>\n",
              "      <th>7</th>\n",
              "      <td>(8, 3)</td>\n",
              "      <td>0.130886</td>\n",
              "    </tr>\n",
              "    <tr>\n",
              "      <th>8</th>\n",
              "      <td>(4, 0)</td>\n",
              "      <td>0.086364</td>\n",
              "    </tr>\n",
              "    <tr>\n",
              "      <th>9</th>\n",
              "      <td>(4, 1)</td>\n",
              "      <td>0.063467</td>\n",
              "    </tr>\n",
              "    <tr>\n",
              "      <th>10</th>\n",
              "      <td>(4, 2)</td>\n",
              "      <td>0.062001</td>\n",
              "    </tr>\n",
              "    <tr>\n",
              "      <th>11</th>\n",
              "      <td>(4, 3)</td>\n",
              "      <td>0.046503</td>\n",
              "    </tr>\n",
              "    <tr>\n",
              "      <th>12</th>\n",
              "      <td>(1, 1)</td>\n",
              "      <td>0.049212</td>\n",
              "    </tr>\n",
              "    <tr>\n",
              "      <th>13</th>\n",
              "      <td>(1, 0)</td>\n",
              "      <td>0.041132</td>\n",
              "    </tr>\n",
              "    <tr>\n",
              "      <th>14</th>\n",
              "      <td>(1, 2)</td>\n",
              "      <td>0.041692</td>\n",
              "    </tr>\n",
              "    <tr>\n",
              "      <th>15</th>\n",
              "      <td>(1, 3)</td>\n",
              "      <td>0.066312</td>\n",
              "    </tr>\n",
              "    <tr>\n",
              "      <th>16</th>\n",
              "      <td>(10, 0)</td>\n",
              "      <td>0.298784</td>\n",
              "    </tr>\n",
              "    <tr>\n",
              "      <th>17</th>\n",
              "      <td>(10, 1)</td>\n",
              "      <td>0.260684</td>\n",
              "    </tr>\n",
              "    <tr>\n",
              "      <th>18</th>\n",
              "      <td>(10, 2)</td>\n",
              "      <td>0.217391</td>\n",
              "    </tr>\n",
              "  </tbody>\n",
              "</table>\n",
              "</div>\n",
              "      <button class=\"colab-df-convert\" onclick=\"convertToInteractive('df-139e0d4e-a86f-4403-9815-c62a119f2e0a')\"\n",
              "              title=\"Convert this dataframe to an interactive table.\"\n",
              "              style=\"display:none;\">\n",
              "        \n",
              "  <svg xmlns=\"http://www.w3.org/2000/svg\" height=\"24px\"viewBox=\"0 0 24 24\"\n",
              "       width=\"24px\">\n",
              "    <path d=\"M0 0h24v24H0V0z\" fill=\"none\"/>\n",
              "    <path d=\"M18.56 5.44l.94 2.06.94-2.06 2.06-.94-2.06-.94-.94-2.06-.94 2.06-2.06.94zm-11 1L8.5 8.5l.94-2.06 2.06-.94-2.06-.94L8.5 2.5l-.94 2.06-2.06.94zm10 10l.94 2.06.94-2.06 2.06-.94-2.06-.94-.94-2.06-.94 2.06-2.06.94z\"/><path d=\"M17.41 7.96l-1.37-1.37c-.4-.4-.92-.59-1.43-.59-.52 0-1.04.2-1.43.59L10.3 9.45l-7.72 7.72c-.78.78-.78 2.05 0 2.83L4 21.41c.39.39.9.59 1.41.59.51 0 1.02-.2 1.41-.59l7.78-7.78 2.81-2.81c.8-.78.8-2.07 0-2.86zM5.41 20L4 18.59l7.72-7.72 1.47 1.35L5.41 20z\"/>\n",
              "  </svg>\n",
              "      </button>\n",
              "      \n",
              "  <style>\n",
              "    .colab-df-container {\n",
              "      display:flex;\n",
              "      flex-wrap:wrap;\n",
              "      gap: 12px;\n",
              "    }\n",
              "\n",
              "    .colab-df-convert {\n",
              "      background-color: #E8F0FE;\n",
              "      border: none;\n",
              "      border-radius: 50%;\n",
              "      cursor: pointer;\n",
              "      display: none;\n",
              "      fill: #1967D2;\n",
              "      height: 32px;\n",
              "      padding: 0 0 0 0;\n",
              "      width: 32px;\n",
              "    }\n",
              "\n",
              "    .colab-df-convert:hover {\n",
              "      background-color: #E2EBFA;\n",
              "      box-shadow: 0px 1px 2px rgba(60, 64, 67, 0.3), 0px 1px 3px 1px rgba(60, 64, 67, 0.15);\n",
              "      fill: #174EA6;\n",
              "    }\n",
              "\n",
              "    [theme=dark] .colab-df-convert {\n",
              "      background-color: #3B4455;\n",
              "      fill: #D2E3FC;\n",
              "    }\n",
              "\n",
              "    [theme=dark] .colab-df-convert:hover {\n",
              "      background-color: #434B5C;\n",
              "      box-shadow: 0px 1px 3px 1px rgba(0, 0, 0, 0.15);\n",
              "      filter: drop-shadow(0px 1px 2px rgba(0, 0, 0, 0.3));\n",
              "      fill: #FFFFFF;\n",
              "    }\n",
              "  </style>\n",
              "\n",
              "      <script>\n",
              "        const buttonEl =\n",
              "          document.querySelector('#df-139e0d4e-a86f-4403-9815-c62a119f2e0a button.colab-df-convert');\n",
              "        buttonEl.style.display =\n",
              "          google.colab.kernel.accessAllowed ? 'block' : 'none';\n",
              "\n",
              "        async function convertToInteractive(key) {\n",
              "          const element = document.querySelector('#df-139e0d4e-a86f-4403-9815-c62a119f2e0a');\n",
              "          const dataTable =\n",
              "            await google.colab.kernel.invokeFunction('convertToInteractive',\n",
              "                                                     [key], {});\n",
              "          if (!dataTable) return;\n",
              "\n",
              "          const docLinkHtml = 'Like what you see? Visit the ' +\n",
              "            '<a target=\"_blank\" href=https://colab.research.google.com/notebooks/data_table.ipynb>data table notebook</a>'\n",
              "            + ' to learn more about interactive tables.';\n",
              "          element.innerHTML = '';\n",
              "          dataTable['output_type'] = 'display_data';\n",
              "          await google.colab.output.renderOutput(dataTable, element);\n",
              "          const docLink = document.createElement('div');\n",
              "          docLink.innerHTML = docLinkHtml;\n",
              "          element.appendChild(docLink);\n",
              "        }\n",
              "      </script>\n",
              "    </div>\n",
              "  </div>\n",
              "  "
            ]
          },
          "metadata": {},
          "execution_count": 89
        }
      ]
    },
    {
      "cell_type": "code",
      "source": [
        "env.reset()\n",
        "\n",
        "for episode in range(5):\n",
        "    state = env.reset()\n",
        "    step = 0\n",
        "    done = False\n",
        "    print(\"****************************************************\")\n",
        "    print(\"EPISODE \", episode)\n",
        "\n",
        "    for step in range(num_timesteps):\n",
        "        \n",
        "        # Take the action (index) that have the maximum expected future reward given that state\n",
        "        action = np.argmax([Q[(state,a)] for a in range(env.action_space.n)])\n",
        "        \n",
        "        new_state, reward, done, info = env.step(action)\n",
        "        \n",
        "        if done:\n",
        "            # Here, we decide to only print the last state (to see if our agent is on the goal or fall into an hole)\n",
        "            env.render()\n",
        "            if new_state == 15:\n",
        "                print(\"We reached our Goal 🏆\")\n",
        "            else:\n",
        "                print(\"We fell into a hole ☠️\")\n",
        "            \n",
        "            # We print the number of step it took.\n",
        "            print(\"Number of steps\", step)\n",
        "            \n",
        "            break\n",
        "        state = new_state\n",
        "env.close()"
      ],
      "metadata": {
        "colab": {
          "base_uri": "https://localhost:8080/"
        },
        "id": "527S8Hiyfst2",
        "outputId": "8966c5c6-49fc-4b60-99b6-025632b54fbc"
      },
      "execution_count": null,
      "outputs": [
        {
          "output_type": "stream",
          "name": "stdout",
          "text": [
            "****************************************************\n",
            "EPISODE  0\n"
          ]
        },
        {
          "output_type": "stream",
          "name": "stderr",
          "text": [
            "/usr/local/lib/python3.7/dist-packages/gym/core.py:50: DeprecationWarning: \u001b[33mWARN: You are calling render method, but you didn't specified the argument render_mode at environment initialization. To maintain backward compatibility, the environment will render in human mode.\n",
            "If you want to render in human mode, initialize the environment in this way: gym.make('EnvName', render_mode='human') and don't call the render method.\n",
            "See here for more information: https://www.gymlibrary.ml/content/api/\u001b[0m\n",
            "  \"You are calling render method, \"\n"
          ]
        },
        {
          "output_type": "stream",
          "name": "stdout",
          "text": [
            "We reached our Goal 🏆\n",
            "Number of steps 9\n",
            "****************************************************\n",
            "EPISODE  1\n",
            "We reached our Goal 🏆\n",
            "Number of steps 28\n",
            "****************************************************\n",
            "EPISODE  2\n",
            "We fell into a hole ☠️\n",
            "Number of steps 51\n",
            "****************************************************\n",
            "EPISODE  3\n",
            "We reached our Goal 🏆\n",
            "Number of steps 13\n",
            "****************************************************\n",
            "EPISODE  4\n",
            "We reached our Goal 🏆\n",
            "Number of steps 29\n"
          ]
        }
      ]
    },
    {
      "cell_type": "markdown",
      "source": [
        "### Temporal Differencing"
      ],
      "metadata": {
        "id": "8b1HAu2lmCx2"
      }
    },
    {
      "cell_type": "markdown",
      "source": [
        "As we can observe, we have the Q values for all the state-action pairs. Now we can extract the policy by selecting the action which has maximum Q value in each state."
      ],
      "metadata": {
        "id": "xeTqrDWIl4AP"
      }
    },
    {
      "cell_type": "code",
      "source": [
        "def random_policy():\n",
        "    return env1.action_space.sample()"
      ],
      "metadata": {
        "id": "FKe1jnOFl5J_"
      },
      "execution_count": null,
      "outputs": []
    },
    {
      "cell_type": "code",
      "source": [
        "V = {}\n",
        "for s in range(env1.observation_space.n):\n",
        "    V[s] = 0.0"
      ],
      "metadata": {
        "id": "ZiWOJYs6mN1j"
      },
      "execution_count": null,
      "outputs": []
    },
    {
      "cell_type": "code",
      "source": [
        "alpha = 0.85\n",
        "gamma = 0.90"
      ],
      "metadata": {
        "id": "GwaoZ6zVmSue"
      },
      "execution_count": null,
      "outputs": []
    },
    {
      "cell_type": "code",
      "source": [
        "num_episodes = 5000\n",
        "num_timesteps = 1000"
      ],
      "metadata": {
        "id": "TXIbT7IbmYCG"
      },
      "execution_count": null,
      "outputs": []
    },
    {
      "cell_type": "markdown",
      "source": [
        "Let's compute the value function (state values) using the given random policy as:\n",
        "![Screenshot from 2022-09-17 00-10-36.png](data:image/png;base64,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)\n"
      ],
      "metadata": {
        "id": "psCE0SL3me-f"
      }
    },
    {
      "cell_type": "code",
      "source": [
        "#for each episode\n",
        "for i in range(num_episodes):\n",
        "    \n",
        "    #initialize the state by resetting the environment\n",
        "    s = env.reset()\n",
        "    \n",
        "    #for every step in the episode\n",
        "    for t in range(num_timesteps):\n",
        "        \n",
        "        #select an action according to random policy\n",
        "        a = random_policy()\n",
        "        \n",
        "        #perform the selected action and store the next state information\n",
        "        s_, r, done, _ = env.step(a)\n",
        "        \n",
        "        #compute the value of the state\n",
        "        V[s] += alpha * (r + gamma * V[s_]-V[s])\n",
        "        \n",
        "        #update next state to the current state\n",
        "        s = s_\n",
        "        \n",
        "        #if the current state is the terminal state then break\n",
        "        if done:\n",
        "            break"
      ],
      "metadata": {
        "colab": {
          "base_uri": "https://localhost:8080/"
        },
        "id": "z32Nh_vHmYr2",
        "outputId": "0dbc11dd-2127-440e-ba6a-410d81f35cf4"
      },
      "execution_count": null,
      "outputs": [
        {
          "output_type": "stream",
          "name": "stderr",
          "text": [
            "/usr/local/lib/python3.7/dist-packages/gym/wrappers/monitoring/video_recorder.py:79: DeprecationWarning: \u001b[33mWARN: Recording ability for environment FrozenLake-v1 initialized with `render_mode=None` is marked as deprecated and will be removed in the future.\u001b[0m\n",
            "  f\"Recording ability for environment {env.spec.id} initialized with `render_mode=None` is marked \"\n",
            "/usr/local/lib/python3.7/dist-packages/gym/core.py:44: DeprecationWarning: \u001b[33mWARN: The argument mode in render method is deprecated; use render_mode during environment initialization instead.\n",
            "See here for more information: https://www.gymlibrary.ml/content/api/\u001b[0m\n",
            "  \"The argument mode in render method is deprecated; \"\n",
            "/usr/local/lib/python3.7/dist-packages/gym/wrappers/monitoring/video_recorder.py:79: DeprecationWarning: \u001b[33mWARN: Recording ability for environment FrozenLake-v1 initialized with `render_mode=None` is marked as deprecated and will be removed in the future.\u001b[0m\n",
            "  f\"Recording ability for environment {env.spec.id} initialized with `render_mode=None` is marked \"\n",
            "/usr/local/lib/python3.7/dist-packages/gym/core.py:44: DeprecationWarning: \u001b[33mWARN: The argument mode in render method is deprecated; use render_mode during environment initialization instead.\n",
            "See here for more information: https://www.gymlibrary.ml/content/api/\u001b[0m\n",
            "  \"The argument mode in render method is deprecated; \"\n",
            "/usr/local/lib/python3.7/dist-packages/gym/core.py:44: DeprecationWarning: \u001b[33mWARN: The argument mode in render method is deprecated; use render_mode during environment initialization instead.\n",
            "See here for more information: https://www.gymlibrary.ml/content/api/\u001b[0m\n",
            "  \"The argument mode in render method is deprecated; \"\n",
            "/usr/local/lib/python3.7/dist-packages/gym/wrappers/monitoring/video_recorder.py:79: DeprecationWarning: \u001b[33mWARN: Recording ability for environment FrozenLake-v1 initialized with `render_mode=None` is marked as deprecated and will be removed in the future.\u001b[0m\n",
            "  f\"Recording ability for environment {env.spec.id} initialized with `render_mode=None` is marked \"\n",
            "/usr/local/lib/python3.7/dist-packages/gym/wrappers/monitoring/video_recorder.py:79: DeprecationWarning: \u001b[33mWARN: Recording ability for environment FrozenLake-v1 initialized with `render_mode=None` is marked as deprecated and will be removed in the future.\u001b[0m\n",
            "  f\"Recording ability for environment {env.spec.id} initialized with `render_mode=None` is marked \"\n",
            "/usr/local/lib/python3.7/dist-packages/gym/core.py:44: DeprecationWarning: \u001b[33mWARN: The argument mode in render method is deprecated; use render_mode during environment initialization instead.\n",
            "See here for more information: https://www.gymlibrary.ml/content/api/\u001b[0m\n",
            "  \"The argument mode in render method is deprecated; \"\n",
            "/usr/local/lib/python3.7/dist-packages/gym/core.py:44: DeprecationWarning: \u001b[33mWARN: The argument mode in render method is deprecated; use render_mode during environment initialization instead.\n",
            "See here for more information: https://www.gymlibrary.ml/content/api/\u001b[0m\n",
            "  \"The argument mode in render method is deprecated; \"\n",
            "/usr/local/lib/python3.7/dist-packages/gym/wrappers/monitoring/video_recorder.py:79: DeprecationWarning: \u001b[33mWARN: Recording ability for environment FrozenLake-v1 initialized with `render_mode=None` is marked as deprecated and will be removed in the future.\u001b[0m\n",
            "  f\"Recording ability for environment {env.spec.id} initialized with `render_mode=None` is marked \"\n",
            "/usr/local/lib/python3.7/dist-packages/gym/wrappers/monitoring/video_recorder.py:79: DeprecationWarning: \u001b[33mWARN: Recording ability for environment FrozenLake-v1 initialized with `render_mode=None` is marked as deprecated and will be removed in the future.\u001b[0m\n",
            "  f\"Recording ability for environment {env.spec.id} initialized with `render_mode=None` is marked \"\n",
            "/usr/local/lib/python3.7/dist-packages/gym/core.py:44: DeprecationWarning: \u001b[33mWARN: The argument mode in render method is deprecated; use render_mode during environment initialization instead.\n",
            "See here for more information: https://www.gymlibrary.ml/content/api/\u001b[0m\n",
            "  \"The argument mode in render method is deprecated; \"\n",
            "/usr/local/lib/python3.7/dist-packages/gym/core.py:44: DeprecationWarning: \u001b[33mWARN: The argument mode in render method is deprecated; use render_mode during environment initialization instead.\n",
            "See here for more information: https://www.gymlibrary.ml/content/api/\u001b[0m\n",
            "  \"The argument mode in render method is deprecated; \"\n",
            "/usr/local/lib/python3.7/dist-packages/gym/wrappers/monitoring/video_recorder.py:79: DeprecationWarning: \u001b[33mWARN: Recording ability for environment FrozenLake-v1 initialized with `render_mode=None` is marked as deprecated and will be removed in the future.\u001b[0m\n",
            "  f\"Recording ability for environment {env.spec.id} initialized with `render_mode=None` is marked \"\n",
            "/usr/local/lib/python3.7/dist-packages/gym/wrappers/monitoring/video_recorder.py:79: DeprecationWarning: \u001b[33mWARN: Recording ability for environment FrozenLake-v1 initialized with `render_mode=None` is marked as deprecated and will be removed in the future.\u001b[0m\n",
            "  f\"Recording ability for environment {env.spec.id} initialized with `render_mode=None` is marked \"\n",
            "/usr/local/lib/python3.7/dist-packages/gym/core.py:44: DeprecationWarning: \u001b[33mWARN: The argument mode in render method is deprecated; use render_mode during environment initialization instead.\n",
            "See here for more information: https://www.gymlibrary.ml/content/api/\u001b[0m\n",
            "  \"The argument mode in render method is deprecated; \"\n",
            "/usr/local/lib/python3.7/dist-packages/gym/core.py:44: DeprecationWarning: \u001b[33mWARN: The argument mode in render method is deprecated; use render_mode during environment initialization instead.\n",
            "See here for more information: https://www.gymlibrary.ml/content/api/\u001b[0m\n",
            "  \"The argument mode in render method is deprecated; \"\n",
            "/usr/local/lib/python3.7/dist-packages/gym/wrappers/monitoring/video_recorder.py:79: DeprecationWarning: \u001b[33mWARN: Recording ability for environment FrozenLake-v1 initialized with `render_mode=None` is marked as deprecated and will be removed in the future.\u001b[0m\n",
            "  f\"Recording ability for environment {env.spec.id} initialized with `render_mode=None` is marked \"\n",
            "/usr/local/lib/python3.7/dist-packages/gym/wrappers/monitoring/video_recorder.py:79: DeprecationWarning: \u001b[33mWARN: Recording ability for environment FrozenLake-v1 initialized with `render_mode=None` is marked as deprecated and will be removed in the future.\u001b[0m\n",
            "  f\"Recording ability for environment {env.spec.id} initialized with `render_mode=None` is marked \"\n",
            "/usr/local/lib/python3.7/dist-packages/gym/core.py:44: DeprecationWarning: \u001b[33mWARN: The argument mode in render method is deprecated; use render_mode during environment initialization instead.\n",
            "See here for more information: https://www.gymlibrary.ml/content/api/\u001b[0m\n",
            "  \"The argument mode in render method is deprecated; \"\n",
            "/usr/local/lib/python3.7/dist-packages/gym/core.py:44: DeprecationWarning: \u001b[33mWARN: The argument mode in render method is deprecated; use render_mode during environment initialization instead.\n",
            "See here for more information: https://www.gymlibrary.ml/content/api/\u001b[0m\n",
            "  \"The argument mode in render method is deprecated; \"\n"
          ]
        }
      ]
    },
    {
      "cell_type": "code",
      "source": [
        "df = pd.DataFrame(list(V.items()), columns=['state', 'value'])"
      ],
      "metadata": {
        "id": "fhCLRPsLmo9V"
      },
      "execution_count": null,
      "outputs": []
    },
    {
      "cell_type": "code",
      "source": [
        "df"
      ],
      "metadata": {
        "colab": {
          "base_uri": "https://localhost:8080/",
          "height": 551
        },
        "id": "P7-5Q2GGmtR3",
        "outputId": "383c6923-3d01-432b-d204-55b3988b764c"
      },
      "execution_count": null,
      "outputs": [
        {
          "output_type": "execute_result",
          "data": {
            "text/plain": [
              "    state     value\n",
              "0       0  0.000572\n",
              "1       1  0.000174\n",
              "2       2  0.005029\n",
              "3       3  0.000043\n",
              "4       4  0.001851\n",
              "5       5  0.000000\n",
              "6       6  0.000981\n",
              "7       7  0.000000\n",
              "8       8  0.318770\n",
              "9       9  0.062177\n",
              "10     10  0.014591\n",
              "11     11  0.000000\n",
              "12     12  0.000000\n",
              "13     13  0.535348\n",
              "14     14  0.941072\n",
              "15     15  0.000000"
            ],
            "text/html": [
              "\n",
              "  <div id=\"df-5a322b08-c71f-440d-829a-df014a46121a\">\n",
              "    <div class=\"colab-df-container\">\n",
              "      <div>\n",
              "<style scoped>\n",
              "    .dataframe tbody tr th:only-of-type {\n",
              "        vertical-align: middle;\n",
              "    }\n",
              "\n",
              "    .dataframe tbody tr th {\n",
              "        vertical-align: top;\n",
              "    }\n",
              "\n",
              "    .dataframe thead th {\n",
              "        text-align: right;\n",
              "    }\n",
              "</style>\n",
              "<table border=\"1\" class=\"dataframe\">\n",
              "  <thead>\n",
              "    <tr style=\"text-align: right;\">\n",
              "      <th></th>\n",
              "      <th>state</th>\n",
              "      <th>value</th>\n",
              "    </tr>\n",
              "  </thead>\n",
              "  <tbody>\n",
              "    <tr>\n",
              "      <th>0</th>\n",
              "      <td>0</td>\n",
              "      <td>0.000572</td>\n",
              "    </tr>\n",
              "    <tr>\n",
              "      <th>1</th>\n",
              "      <td>1</td>\n",
              "      <td>0.000174</td>\n",
              "    </tr>\n",
              "    <tr>\n",
              "      <th>2</th>\n",
              "      <td>2</td>\n",
              "      <td>0.005029</td>\n",
              "    </tr>\n",
              "    <tr>\n",
              "      <th>3</th>\n",
              "      <td>3</td>\n",
              "      <td>0.000043</td>\n",
              "    </tr>\n",
              "    <tr>\n",
              "      <th>4</th>\n",
              "      <td>4</td>\n",
              "      <td>0.001851</td>\n",
              "    </tr>\n",
              "    <tr>\n",
              "      <th>5</th>\n",
              "      <td>5</td>\n",
              "      <td>0.000000</td>\n",
              "    </tr>\n",
              "    <tr>\n",
              "      <th>6</th>\n",
              "      <td>6</td>\n",
              "      <td>0.000981</td>\n",
              "    </tr>\n",
              "    <tr>\n",
              "      <th>7</th>\n",
              "      <td>7</td>\n",
              "      <td>0.000000</td>\n",
              "    </tr>\n",
              "    <tr>\n",
              "      <th>8</th>\n",
              "      <td>8</td>\n",
              "      <td>0.318770</td>\n",
              "    </tr>\n",
              "    <tr>\n",
              "      <th>9</th>\n",
              "      <td>9</td>\n",
              "      <td>0.062177</td>\n",
              "    </tr>\n",
              "    <tr>\n",
              "      <th>10</th>\n",
              "      <td>10</td>\n",
              "      <td>0.014591</td>\n",
              "    </tr>\n",
              "    <tr>\n",
              "      <th>11</th>\n",
              "      <td>11</td>\n",
              "      <td>0.000000</td>\n",
              "    </tr>\n",
              "    <tr>\n",
              "      <th>12</th>\n",
              "      <td>12</td>\n",
              "      <td>0.000000</td>\n",
              "    </tr>\n",
              "    <tr>\n",
              "      <th>13</th>\n",
              "      <td>13</td>\n",
              "      <td>0.535348</td>\n",
              "    </tr>\n",
              "    <tr>\n",
              "      <th>14</th>\n",
              "      <td>14</td>\n",
              "      <td>0.941072</td>\n",
              "    </tr>\n",
              "    <tr>\n",
              "      <th>15</th>\n",
              "      <td>15</td>\n",
              "      <td>0.000000</td>\n",
              "    </tr>\n",
              "  </tbody>\n",
              "</table>\n",
              "</div>\n",
              "      <button class=\"colab-df-convert\" onclick=\"convertToInteractive('df-5a322b08-c71f-440d-829a-df014a46121a')\"\n",
              "              title=\"Convert this dataframe to an interactive table.\"\n",
              "              style=\"display:none;\">\n",
              "        \n",
              "  <svg xmlns=\"http://www.w3.org/2000/svg\" height=\"24px\"viewBox=\"0 0 24 24\"\n",
              "       width=\"24px\">\n",
              "    <path d=\"M0 0h24v24H0V0z\" fill=\"none\"/>\n",
              "    <path d=\"M18.56 5.44l.94 2.06.94-2.06 2.06-.94-2.06-.94-.94-2.06-.94 2.06-2.06.94zm-11 1L8.5 8.5l.94-2.06 2.06-.94-2.06-.94L8.5 2.5l-.94 2.06-2.06.94zm10 10l.94 2.06.94-2.06 2.06-.94-2.06-.94-.94-2.06-.94 2.06-2.06.94z\"/><path d=\"M17.41 7.96l-1.37-1.37c-.4-.4-.92-.59-1.43-.59-.52 0-1.04.2-1.43.59L10.3 9.45l-7.72 7.72c-.78.78-.78 2.05 0 2.83L4 21.41c.39.39.9.59 1.41.59.51 0 1.02-.2 1.41-.59l7.78-7.78 2.81-2.81c.8-.78.8-2.07 0-2.86zM5.41 20L4 18.59l7.72-7.72 1.47 1.35L5.41 20z\"/>\n",
              "  </svg>\n",
              "      </button>\n",
              "      \n",
              "  <style>\n",
              "    .colab-df-container {\n",
              "      display:flex;\n",
              "      flex-wrap:wrap;\n",
              "      gap: 12px;\n",
              "    }\n",
              "\n",
              "    .colab-df-convert {\n",
              "      background-color: #E8F0FE;\n",
              "      border: none;\n",
              "      border-radius: 50%;\n",
              "      cursor: pointer;\n",
              "      display: none;\n",
              "      fill: #1967D2;\n",
              "      height: 32px;\n",
              "      padding: 0 0 0 0;\n",
              "      width: 32px;\n",
              "    }\n",
              "\n",
              "    .colab-df-convert:hover {\n",
              "      background-color: #E2EBFA;\n",
              "      box-shadow: 0px 1px 2px rgba(60, 64, 67, 0.3), 0px 1px 3px 1px rgba(60, 64, 67, 0.15);\n",
              "      fill: #174EA6;\n",
              "    }\n",
              "\n",
              "    [theme=dark] .colab-df-convert {\n",
              "      background-color: #3B4455;\n",
              "      fill: #D2E3FC;\n",
              "    }\n",
              "\n",
              "    [theme=dark] .colab-df-convert:hover {\n",
              "      background-color: #434B5C;\n",
              "      box-shadow: 0px 1px 3px 1px rgba(0, 0, 0, 0.15);\n",
              "      filter: drop-shadow(0px 1px 2px rgba(0, 0, 0, 0.3));\n",
              "      fill: #FFFFFF;\n",
              "    }\n",
              "  </style>\n",
              "\n",
              "      <script>\n",
              "        const buttonEl =\n",
              "          document.querySelector('#df-5a322b08-c71f-440d-829a-df014a46121a button.colab-df-convert');\n",
              "        buttonEl.style.display =\n",
              "          google.colab.kernel.accessAllowed ? 'block' : 'none';\n",
              "\n",
              "        async function convertToInteractive(key) {\n",
              "          const element = document.querySelector('#df-5a322b08-c71f-440d-829a-df014a46121a');\n",
              "          const dataTable =\n",
              "            await google.colab.kernel.invokeFunction('convertToInteractive',\n",
              "                                                     [key], {});\n",
              "          if (!dataTable) return;\n",
              "\n",
              "          const docLinkHtml = 'Like what you see? Visit the ' +\n",
              "            '<a target=\"_blank\" href=https://colab.research.google.com/notebooks/data_table.ipynb>data table notebook</a>'\n",
              "            + ' to learn more about interactive tables.';\n",
              "          element.innerHTML = '';\n",
              "          dataTable['output_type'] = 'display_data';\n",
              "          await google.colab.output.renderOutput(dataTable, element);\n",
              "          const docLink = document.createElement('div');\n",
              "          docLink.innerHTML = docLinkHtml;\n",
              "          element.appendChild(docLink);\n",
              "        }\n",
              "      </script>\n",
              "    </div>\n",
              "  </div>\n",
              "  "
            ]
          },
          "metadata": {},
          "execution_count": 45
        }
      ]
    },
    {
      "cell_type": "markdown",
      "source": [
        "As we can observe, now we have the value of all the states and also we can notice that the value of all the terminal states (hole states and goal state) is zero.\n",
        "\n",
        "Now that we have understood how TD learning can be used for the prediction task, in the next section, we will learn how to use TD learning for the control task."
      ],
      "metadata": {
        "id": "bYkIuQzTm3lm"
      }
    },
    {
      "cell_type": "markdown",
      "source": [
        "### TD For Control"
      ],
      "metadata": {
        "id": "2IrZVgXcm5eu"
      }
    },
    {
      "cell_type": "markdown",
      "source": [
        "#### SARSA"
      ],
      "metadata": {
        "id": "L_-OSvwSnMNt"
      }
    },
    {
      "cell_type": "markdown",
      "source": [
        "Let's define the dictionary for storing the Q value of the state-action pair and we initialize the Q value of all the state-action pair to 0.0:"
      ],
      "metadata": {
        "id": "hcWLIY5InS8E"
      }
    },
    {
      "cell_type": "code",
      "source": [
        "Q = {}\n",
        "for s in range(env.observation_space.n):\n",
        "    for a in range(env.action_space.n):\n",
        "        Q[(s,a)] = 0.0"
      ],
      "metadata": {
        "id": "7V6abcTXm8hM"
      },
      "execution_count": null,
      "outputs": []
    },
    {
      "cell_type": "markdown",
      "source": [],
      "metadata": {
        "id": "beeL6oefnYmk"
      }
    },
    {
      "cell_type": "markdown",
      "source": [
        "Now, let's define the epsilon-greedy policy. We generate a random number from the uniform distribution and if the random number is less than epsilon we select the random action else we select the best action which has the maximum Q value:"
      ],
      "metadata": {
        "id": "JM4QivdLnWrz"
      }
    },
    {
      "cell_type": "code",
      "source": [
        "def epsilon_greedy(state, epsilon):\n",
        "    if random.uniform(0,1) < epsilon:\n",
        "        return env.action_space.sample()\n",
        "    else:\n",
        "        return max(list(range(env.action_space.n)), key = lambda x: Q[(state,x)])"
      ],
      "metadata": {
        "id": "VcXIflSUnZWg"
      },
      "execution_count": null,
      "outputs": []
    },
    {
      "cell_type": "code",
      "source": [
        "alpha = 0.85\n",
        "gamma = 0.90\n",
        "epsilon = 0.8"
      ],
      "metadata": {
        "id": "KG9ILgyKnbRs"
      },
      "execution_count": null,
      "outputs": []
    },
    {
      "cell_type": "code",
      "source": [
        "num_episodes = 5000\n",
        "num_timesteps = 1000"
      ],
      "metadata": {
        "id": "KfI-vkq6ndfs"
      },
      "execution_count": null,
      "outputs": []
    },
    {
      "cell_type": "markdown",
      "source": [
        "C![Screenshot from 2022-09-17 00-15-01.png](data:image/png;base64,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)ompute the optimal policy using the SARSA update rule as:"
      ],
      "metadata": {
        "id": "IHLuyKZCnhW0"
      }
    },
    {
      "cell_type": "code",
      "source": [
        "#for each episode\n",
        "for i in range(20000):\n",
        "       \n",
        "    #initialize the state by resetting the environment\n",
        "    s = env.reset()\n",
        "    \n",
        "    #select the action using the epsilon-greedy policy\n",
        "    a = epsilon_greedy(s,epsilon)\n",
        "    \n",
        "    #for each step in the episode:\n",
        "    for t in range(num_timesteps):\n",
        "\n",
        "        #perform the selected action and store the next state information: \n",
        "        s_, r, done, _ = env.step(a)\n",
        "        \n",
        "        #select the action a dash in the next state using the epsilon greedy policy:\n",
        "        a_ = epsilon_greedy(s_,epsilon) \n",
        "        \n",
        "        #compute the Q value of the state-action pair\n",
        "        Q[(s,a)] += alpha * (r + gamma * Q[(s_,a_)]-Q[(s,a)])\n",
        "        \n",
        "        #update next state to current state\n",
        "        s = s_\n",
        "        \n",
        "        #update next action to current action\n",
        "        a = a_\n",
        "\n",
        "\n",
        "        #if the current state is the terminal state then break:\n",
        "        if done:\n",
        "            break\n",
        "     "
      ],
      "metadata": {
        "colab": {
          "base_uri": "https://localhost:8080/"
        },
        "id": "38QgMDzDnfVy",
        "outputId": "8743b90d-c260-4f38-cfb0-a44e38520aa9"
      },
      "execution_count": null,
      "outputs": [
        {
          "output_type": "stream",
          "name": "stderr",
          "text": [
            "/usr/local/lib/python3.7/dist-packages/gym/wrappers/monitoring/video_recorder.py:79: DeprecationWarning: \u001b[33mWARN: Recording ability for environment FrozenLake-v1 initialized with `render_mode=None` is marked as deprecated and will be removed in the future.\u001b[0m\n",
            "  f\"Recording ability for environment {env.spec.id} initialized with `render_mode=None` is marked \"\n",
            "/usr/local/lib/python3.7/dist-packages/gym/core.py:44: DeprecationWarning: \u001b[33mWARN: The argument mode in render method is deprecated; use render_mode during environment initialization instead.\n",
            "See here for more information: https://www.gymlibrary.ml/content/api/\u001b[0m\n",
            "  \"The argument mode in render method is deprecated; \"\n",
            "/usr/local/lib/python3.7/dist-packages/gym/wrappers/monitoring/video_recorder.py:79: DeprecationWarning: \u001b[33mWARN: Recording ability for environment FrozenLake-v1 initialized with `render_mode=None` is marked as deprecated and will be removed in the future.\u001b[0m\n",
            "  f\"Recording ability for environment {env.spec.id} initialized with `render_mode=None` is marked \"\n",
            "/usr/local/lib/python3.7/dist-packages/gym/core.py:44: DeprecationWarning: \u001b[33mWARN: The argument mode in render method is deprecated; use render_mode during environment initialization instead.\n",
            "See here for more information: https://www.gymlibrary.ml/content/api/\u001b[0m\n",
            "  \"The argument mode in render method is deprecated; \"\n",
            "/usr/local/lib/python3.7/dist-packages/gym/core.py:44: DeprecationWarning: \u001b[33mWARN: The argument mode in render method is deprecated; use render_mode during environment initialization instead.\n",
            "See here for more information: https://www.gymlibrary.ml/content/api/\u001b[0m\n",
            "  \"The argument mode in render method is deprecated; \"\n",
            "/usr/local/lib/python3.7/dist-packages/gym/wrappers/monitoring/video_recorder.py:79: DeprecationWarning: \u001b[33mWARN: Recording ability for environment FrozenLake-v1 initialized with `render_mode=None` is marked as deprecated and will be removed in the future.\u001b[0m\n",
            "  f\"Recording ability for environment {env.spec.id} initialized with `render_mode=None` is marked \"\n",
            "/usr/local/lib/python3.7/dist-packages/gym/wrappers/monitoring/video_recorder.py:79: DeprecationWarning: \u001b[33mWARN: Recording ability for environment FrozenLake-v1 initialized with `render_mode=None` is marked as deprecated and will be removed in the future.\u001b[0m\n",
            "  f\"Recording ability for environment {env.spec.id} initialized with `render_mode=None` is marked \"\n",
            "/usr/local/lib/python3.7/dist-packages/gym/core.py:44: DeprecationWarning: \u001b[33mWARN: The argument mode in render method is deprecated; use render_mode during environment initialization instead.\n",
            "See here for more information: https://www.gymlibrary.ml/content/api/\u001b[0m\n",
            "  \"The argument mode in render method is deprecated; \"\n",
            "/usr/local/lib/python3.7/dist-packages/gym/core.py:44: DeprecationWarning: \u001b[33mWARN: The argument mode in render method is deprecated; use render_mode during environment initialization instead.\n",
            "See here for more information: https://www.gymlibrary.ml/content/api/\u001b[0m\n",
            "  \"The argument mode in render method is deprecated; \"\n",
            "/usr/local/lib/python3.7/dist-packages/gym/wrappers/monitoring/video_recorder.py:79: DeprecationWarning: \u001b[33mWARN: Recording ability for environment FrozenLake-v1 initialized with `render_mode=None` is marked as deprecated and will be removed in the future.\u001b[0m\n",
            "  f\"Recording ability for environment {env.spec.id} initialized with `render_mode=None` is marked \"\n",
            "/usr/local/lib/python3.7/dist-packages/gym/wrappers/monitoring/video_recorder.py:79: DeprecationWarning: \u001b[33mWARN: Recording ability for environment FrozenLake-v1 initialized with `render_mode=None` is marked as deprecated and will be removed in the future.\u001b[0m\n",
            "  f\"Recording ability for environment {env.spec.id} initialized with `render_mode=None` is marked \"\n",
            "/usr/local/lib/python3.7/dist-packages/gym/core.py:44: DeprecationWarning: \u001b[33mWARN: The argument mode in render method is deprecated; use render_mode during environment initialization instead.\n",
            "See here for more information: https://www.gymlibrary.ml/content/api/\u001b[0m\n",
            "  \"The argument mode in render method is deprecated; \"\n",
            "/usr/local/lib/python3.7/dist-packages/gym/core.py:44: DeprecationWarning: \u001b[33mWARN: The argument mode in render method is deprecated; use render_mode during environment initialization instead.\n",
            "See here for more information: https://www.gymlibrary.ml/content/api/\u001b[0m\n",
            "  \"The argument mode in render method is deprecated; \"\n",
            "/usr/local/lib/python3.7/dist-packages/gym/wrappers/monitoring/video_recorder.py:79: DeprecationWarning: \u001b[33mWARN: Recording ability for environment FrozenLake-v1 initialized with `render_mode=None` is marked as deprecated and will be removed in the future.\u001b[0m\n",
            "  f\"Recording ability for environment {env.spec.id} initialized with `render_mode=None` is marked \"\n",
            "/usr/local/lib/python3.7/dist-packages/gym/wrappers/monitoring/video_recorder.py:79: DeprecationWarning: \u001b[33mWARN: Recording ability for environment FrozenLake-v1 initialized with `render_mode=None` is marked as deprecated and will be removed in the future.\u001b[0m\n",
            "  f\"Recording ability for environment {env.spec.id} initialized with `render_mode=None` is marked \"\n",
            "/usr/local/lib/python3.7/dist-packages/gym/core.py:44: DeprecationWarning: \u001b[33mWARN: The argument mode in render method is deprecated; use render_mode during environment initialization instead.\n",
            "See here for more information: https://www.gymlibrary.ml/content/api/\u001b[0m\n",
            "  \"The argument mode in render method is deprecated; \"\n",
            "/usr/local/lib/python3.7/dist-packages/gym/core.py:44: DeprecationWarning: \u001b[33mWARN: The argument mode in render method is deprecated; use render_mode during environment initialization instead.\n",
            "See here for more information: https://www.gymlibrary.ml/content/api/\u001b[0m\n",
            "  \"The argument mode in render method is deprecated; \"\n",
            "/usr/local/lib/python3.7/dist-packages/gym/wrappers/monitoring/video_recorder.py:79: DeprecationWarning: \u001b[33mWARN: Recording ability for environment FrozenLake-v1 initialized with `render_mode=None` is marked as deprecated and will be removed in the future.\u001b[0m\n",
            "  f\"Recording ability for environment {env.spec.id} initialized with `render_mode=None` is marked \"\n",
            "/usr/local/lib/python3.7/dist-packages/gym/wrappers/monitoring/video_recorder.py:79: DeprecationWarning: \u001b[33mWARN: Recording ability for environment FrozenLake-v1 initialized with `render_mode=None` is marked as deprecated and will be removed in the future.\u001b[0m\n",
            "  f\"Recording ability for environment {env.spec.id} initialized with `render_mode=None` is marked \"\n",
            "/usr/local/lib/python3.7/dist-packages/gym/core.py:44: DeprecationWarning: \u001b[33mWARN: The argument mode in render method is deprecated; use render_mode during environment initialization instead.\n",
            "See here for more information: https://www.gymlibrary.ml/content/api/\u001b[0m\n",
            "  \"The argument mode in render method is deprecated; \"\n",
            "/usr/local/lib/python3.7/dist-packages/gym/core.py:44: DeprecationWarning: \u001b[33mWARN: The argument mode in render method is deprecated; use render_mode during environment initialization instead.\n",
            "See here for more information: https://www.gymlibrary.ml/content/api/\u001b[0m\n",
            "  \"The argument mode in render method is deprecated; \"\n",
            "/usr/local/lib/python3.7/dist-packages/gym/wrappers/monitoring/video_recorder.py:79: DeprecationWarning: \u001b[33mWARN: Recording ability for environment FrozenLake-v1 initialized with `render_mode=None` is marked as deprecated and will be removed in the future.\u001b[0m\n",
            "  f\"Recording ability for environment {env.spec.id} initialized with `render_mode=None` is marked \"\n",
            "/usr/local/lib/python3.7/dist-packages/gym/wrappers/monitoring/video_recorder.py:79: DeprecationWarning: \u001b[33mWARN: Recording ability for environment FrozenLake-v1 initialized with `render_mode=None` is marked as deprecated and will be removed in the future.\u001b[0m\n",
            "  f\"Recording ability for environment {env.spec.id} initialized with `render_mode=None` is marked \"\n",
            "/usr/local/lib/python3.7/dist-packages/gym/core.py:44: DeprecationWarning: \u001b[33mWARN: The argument mode in render method is deprecated; use render_mode during environment initialization instead.\n",
            "See here for more information: https://www.gymlibrary.ml/content/api/\u001b[0m\n",
            "  \"The argument mode in render method is deprecated; \"\n",
            "/usr/local/lib/python3.7/dist-packages/gym/core.py:44: DeprecationWarning: \u001b[33mWARN: The argument mode in render method is deprecated; use render_mode during environment initialization instead.\n",
            "See here for more information: https://www.gymlibrary.ml/content/api/\u001b[0m\n",
            "  \"The argument mode in render method is deprecated; \"\n",
            "/usr/local/lib/python3.7/dist-packages/gym/wrappers/monitoring/video_recorder.py:79: DeprecationWarning: \u001b[33mWARN: Recording ability for environment FrozenLake-v1 initialized with `render_mode=None` is marked as deprecated and will be removed in the future.\u001b[0m\n",
            "  f\"Recording ability for environment {env.spec.id} initialized with `render_mode=None` is marked \"\n",
            "/usr/local/lib/python3.7/dist-packages/gym/wrappers/monitoring/video_recorder.py:79: DeprecationWarning: \u001b[33mWARN: Recording ability for environment FrozenLake-v1 initialized with `render_mode=None` is marked as deprecated and will be removed in the future.\u001b[0m\n",
            "  f\"Recording ability for environment {env.spec.id} initialized with `render_mode=None` is marked \"\n",
            "/usr/local/lib/python3.7/dist-packages/gym/core.py:44: DeprecationWarning: \u001b[33mWARN: The argument mode in render method is deprecated; use render_mode during environment initialization instead.\n",
            "See here for more information: https://www.gymlibrary.ml/content/api/\u001b[0m\n",
            "  \"The argument mode in render method is deprecated; \"\n",
            "/usr/local/lib/python3.7/dist-packages/gym/core.py:44: DeprecationWarning: \u001b[33mWARN: The argument mode in render method is deprecated; use render_mode during environment initialization instead.\n",
            "See here for more information: https://www.gymlibrary.ml/content/api/\u001b[0m\n",
            "  \"The argument mode in render method is deprecated; \"\n",
            "/usr/local/lib/python3.7/dist-packages/gym/wrappers/monitoring/video_recorder.py:79: DeprecationWarning: \u001b[33mWARN: Recording ability for environment FrozenLake-v1 initialized with `render_mode=None` is marked as deprecated and will be removed in the future.\u001b[0m\n",
            "  f\"Recording ability for environment {env.spec.id} initialized with `render_mode=None` is marked \"\n",
            "/usr/local/lib/python3.7/dist-packages/gym/wrappers/monitoring/video_recorder.py:79: DeprecationWarning: \u001b[33mWARN: Recording ability for environment FrozenLake-v1 initialized with `render_mode=None` is marked as deprecated and will be removed in the future.\u001b[0m\n",
            "  f\"Recording ability for environment {env.spec.id} initialized with `render_mode=None` is marked \"\n",
            "/usr/local/lib/python3.7/dist-packages/gym/core.py:44: DeprecationWarning: \u001b[33mWARN: The argument mode in render method is deprecated; use render_mode during environment initialization instead.\n",
            "See here for more information: https://www.gymlibrary.ml/content/api/\u001b[0m\n",
            "  \"The argument mode in render method is deprecated; \"\n",
            "/usr/local/lib/python3.7/dist-packages/gym/core.py:44: DeprecationWarning: \u001b[33mWARN: The argument mode in render method is deprecated; use render_mode during environment initialization instead.\n",
            "See here for more information: https://www.gymlibrary.ml/content/api/\u001b[0m\n",
            "  \"The argument mode in render method is deprecated; \"\n",
            "/usr/local/lib/python3.7/dist-packages/gym/wrappers/monitoring/video_recorder.py:79: DeprecationWarning: \u001b[33mWARN: Recording ability for environment FrozenLake-v1 initialized with `render_mode=None` is marked as deprecated and will be removed in the future.\u001b[0m\n",
            "  f\"Recording ability for environment {env.spec.id} initialized with `render_mode=None` is marked \"\n",
            "/usr/local/lib/python3.7/dist-packages/gym/wrappers/monitoring/video_recorder.py:79: DeprecationWarning: \u001b[33mWARN: Recording ability for environment FrozenLake-v1 initialized with `render_mode=None` is marked as deprecated and will be removed in the future.\u001b[0m\n",
            "  f\"Recording ability for environment {env.spec.id} initialized with `render_mode=None` is marked \"\n",
            "/usr/local/lib/python3.7/dist-packages/gym/core.py:44: DeprecationWarning: \u001b[33mWARN: The argument mode in render method is deprecated; use render_mode during environment initialization instead.\n",
            "See here for more information: https://www.gymlibrary.ml/content/api/\u001b[0m\n",
            "  \"The argument mode in render method is deprecated; \"\n",
            "/usr/local/lib/python3.7/dist-packages/gym/core.py:44: DeprecationWarning: \u001b[33mWARN: The argument mode in render method is deprecated; use render_mode during environment initialization instead.\n",
            "See here for more information: https://www.gymlibrary.ml/content/api/\u001b[0m\n",
            "  \"The argument mode in render method is deprecated; \"\n",
            "/usr/local/lib/python3.7/dist-packages/gym/wrappers/monitoring/video_recorder.py:79: DeprecationWarning: \u001b[33mWARN: Recording ability for environment FrozenLake-v1 initialized with `render_mode=None` is marked as deprecated and will be removed in the future.\u001b[0m\n",
            "  f\"Recording ability for environment {env.spec.id} initialized with `render_mode=None` is marked \"\n",
            "/usr/local/lib/python3.7/dist-packages/gym/wrappers/monitoring/video_recorder.py:79: DeprecationWarning: \u001b[33mWARN: Recording ability for environment FrozenLake-v1 initialized with `render_mode=None` is marked as deprecated and will be removed in the future.\u001b[0m\n",
            "  f\"Recording ability for environment {env.spec.id} initialized with `render_mode=None` is marked \"\n",
            "/usr/local/lib/python3.7/dist-packages/gym/core.py:44: DeprecationWarning: \u001b[33mWARN: The argument mode in render method is deprecated; use render_mode during environment initialization instead.\n",
            "See here for more information: https://www.gymlibrary.ml/content/api/\u001b[0m\n",
            "  \"The argument mode in render method is deprecated; \"\n",
            "/usr/local/lib/python3.7/dist-packages/gym/core.py:44: DeprecationWarning: \u001b[33mWARN: The argument mode in render method is deprecated; use render_mode during environment initialization instead.\n",
            "See here for more information: https://www.gymlibrary.ml/content/api/\u001b[0m\n",
            "  \"The argument mode in render method is deprecated; \"\n",
            "/usr/local/lib/python3.7/dist-packages/gym/wrappers/monitoring/video_recorder.py:79: DeprecationWarning: \u001b[33mWARN: Recording ability for environment FrozenLake-v1 initialized with `render_mode=None` is marked as deprecated and will be removed in the future.\u001b[0m\n",
            "  f\"Recording ability for environment {env.spec.id} initialized with `render_mode=None` is marked \"\n",
            "/usr/local/lib/python3.7/dist-packages/gym/wrappers/monitoring/video_recorder.py:79: DeprecationWarning: \u001b[33mWARN: Recording ability for environment FrozenLake-v1 initialized with `render_mode=None` is marked as deprecated and will be removed in the future.\u001b[0m\n",
            "  f\"Recording ability for environment {env.spec.id} initialized with `render_mode=None` is marked \"\n",
            "/usr/local/lib/python3.7/dist-packages/gym/core.py:44: DeprecationWarning: \u001b[33mWARN: The argument mode in render method is deprecated; use render_mode during environment initialization instead.\n",
            "See here for more information: https://www.gymlibrary.ml/content/api/\u001b[0m\n",
            "  \"The argument mode in render method is deprecated; \"\n",
            "/usr/local/lib/python3.7/dist-packages/gym/core.py:44: DeprecationWarning: \u001b[33mWARN: The argument mode in render method is deprecated; use render_mode during environment initialization instead.\n",
            "See here for more information: https://www.gymlibrary.ml/content/api/\u001b[0m\n",
            "  \"The argument mode in render method is deprecated; \"\n",
            "/usr/local/lib/python3.7/dist-packages/gym/wrappers/monitoring/video_recorder.py:79: DeprecationWarning: \u001b[33mWARN: Recording ability for environment FrozenLake-v1 initialized with `render_mode=None` is marked as deprecated and will be removed in the future.\u001b[0m\n",
            "  f\"Recording ability for environment {env.spec.id} initialized with `render_mode=None` is marked \"\n",
            "/usr/local/lib/python3.7/dist-packages/gym/wrappers/monitoring/video_recorder.py:79: DeprecationWarning: \u001b[33mWARN: Recording ability for environment FrozenLake-v1 initialized with `render_mode=None` is marked as deprecated and will be removed in the future.\u001b[0m\n",
            "  f\"Recording ability for environment {env.spec.id} initialized with `render_mode=None` is marked \"\n",
            "/usr/local/lib/python3.7/dist-packages/gym/core.py:44: DeprecationWarning: \u001b[33mWARN: The argument mode in render method is deprecated; use render_mode during environment initialization instead.\n",
            "See here for more information: https://www.gymlibrary.ml/content/api/\u001b[0m\n",
            "  \"The argument mode in render method is deprecated; \"\n",
            "/usr/local/lib/python3.7/dist-packages/gym/core.py:44: DeprecationWarning: \u001b[33mWARN: The argument mode in render method is deprecated; use render_mode during environment initialization instead.\n",
            "See here for more information: https://www.gymlibrary.ml/content/api/\u001b[0m\n",
            "  \"The argument mode in render method is deprecated; \"\n",
            "/usr/local/lib/python3.7/dist-packages/gym/wrappers/monitoring/video_recorder.py:79: DeprecationWarning: \u001b[33mWARN: Recording ability for environment FrozenLake-v1 initialized with `render_mode=None` is marked as deprecated and will be removed in the future.\u001b[0m\n",
            "  f\"Recording ability for environment {env.spec.id} initialized with `render_mode=None` is marked \"\n",
            "/usr/local/lib/python3.7/dist-packages/gym/wrappers/monitoring/video_recorder.py:79: DeprecationWarning: \u001b[33mWARN: Recording ability for environment FrozenLake-v1 initialized with `render_mode=None` is marked as deprecated and will be removed in the future.\u001b[0m\n",
            "  f\"Recording ability for environment {env.spec.id} initialized with `render_mode=None` is marked \"\n",
            "/usr/local/lib/python3.7/dist-packages/gym/core.py:44: DeprecationWarning: \u001b[33mWARN: The argument mode in render method is deprecated; use render_mode during environment initialization instead.\n",
            "See here for more information: https://www.gymlibrary.ml/content/api/\u001b[0m\n",
            "  \"The argument mode in render method is deprecated; \"\n",
            "/usr/local/lib/python3.7/dist-packages/gym/core.py:44: DeprecationWarning: \u001b[33mWARN: The argument mode in render method is deprecated; use render_mode during environment initialization instead.\n",
            "See here for more information: https://www.gymlibrary.ml/content/api/\u001b[0m\n",
            "  \"The argument mode in render method is deprecated; \"\n",
            "/usr/local/lib/python3.7/dist-packages/gym/wrappers/monitoring/video_recorder.py:79: DeprecationWarning: \u001b[33mWARN: Recording ability for environment FrozenLake-v1 initialized with `render_mode=None` is marked as deprecated and will be removed in the future.\u001b[0m\n",
            "  f\"Recording ability for environment {env.spec.id} initialized with `render_mode=None` is marked \"\n",
            "/usr/local/lib/python3.7/dist-packages/gym/wrappers/monitoring/video_recorder.py:79: DeprecationWarning: \u001b[33mWARN: Recording ability for environment FrozenLake-v1 initialized with `render_mode=None` is marked as deprecated and will be removed in the future.\u001b[0m\n",
            "  f\"Recording ability for environment {env.spec.id} initialized with `render_mode=None` is marked \"\n",
            "/usr/local/lib/python3.7/dist-packages/gym/core.py:44: DeprecationWarning: \u001b[33mWARN: The argument mode in render method is deprecated; use render_mode during environment initialization instead.\n",
            "See here for more information: https://www.gymlibrary.ml/content/api/\u001b[0m\n",
            "  \"The argument mode in render method is deprecated; \"\n",
            "/usr/local/lib/python3.7/dist-packages/gym/core.py:44: DeprecationWarning: \u001b[33mWARN: The argument mode in render method is deprecated; use render_mode during environment initialization instead.\n",
            "See here for more information: https://www.gymlibrary.ml/content/api/\u001b[0m\n",
            "  \"The argument mode in render method is deprecated; \"\n",
            "/usr/local/lib/python3.7/dist-packages/gym/wrappers/monitoring/video_recorder.py:79: DeprecationWarning: \u001b[33mWARN: Recording ability for environment FrozenLake-v1 initialized with `render_mode=None` is marked as deprecated and will be removed in the future.\u001b[0m\n",
            "  f\"Recording ability for environment {env.spec.id} initialized with `render_mode=None` is marked \"\n",
            "/usr/local/lib/python3.7/dist-packages/gym/wrappers/monitoring/video_recorder.py:79: DeprecationWarning: \u001b[33mWARN: Recording ability for environment FrozenLake-v1 initialized with `render_mode=None` is marked as deprecated and will be removed in the future.\u001b[0m\n",
            "  f\"Recording ability for environment {env.spec.id} initialized with `render_mode=None` is marked \"\n",
            "/usr/local/lib/python3.7/dist-packages/gym/core.py:44: DeprecationWarning: \u001b[33mWARN: The argument mode in render method is deprecated; use render_mode during environment initialization instead.\n",
            "See here for more information: https://www.gymlibrary.ml/content/api/\u001b[0m\n",
            "  \"The argument mode in render method is deprecated; \"\n",
            "/usr/local/lib/python3.7/dist-packages/gym/core.py:44: DeprecationWarning: \u001b[33mWARN: The argument mode in render method is deprecated; use render_mode during environment initialization instead.\n",
            "See here for more information: https://www.gymlibrary.ml/content/api/\u001b[0m\n",
            "  \"The argument mode in render method is deprecated; \"\n",
            "/usr/local/lib/python3.7/dist-packages/gym/wrappers/monitoring/video_recorder.py:79: DeprecationWarning: \u001b[33mWARN: Recording ability for environment FrozenLake-v1 initialized with `render_mode=None` is marked as deprecated and will be removed in the future.\u001b[0m\n",
            "  f\"Recording ability for environment {env.spec.id} initialized with `render_mode=None` is marked \"\n",
            "/usr/local/lib/python3.7/dist-packages/gym/wrappers/monitoring/video_recorder.py:79: DeprecationWarning: \u001b[33mWARN: Recording ability for environment FrozenLake-v1 initialized with `render_mode=None` is marked as deprecated and will be removed in the future.\u001b[0m\n",
            "  f\"Recording ability for environment {env.spec.id} initialized with `render_mode=None` is marked \"\n",
            "/usr/local/lib/python3.7/dist-packages/gym/core.py:44: DeprecationWarning: \u001b[33mWARN: The argument mode in render method is deprecated; use render_mode during environment initialization instead.\n",
            "See here for more information: https://www.gymlibrary.ml/content/api/\u001b[0m\n",
            "  \"The argument mode in render method is deprecated; \"\n",
            "/usr/local/lib/python3.7/dist-packages/gym/core.py:44: DeprecationWarning: \u001b[33mWARN: The argument mode in render method is deprecated; use render_mode during environment initialization instead.\n",
            "See here for more information: https://www.gymlibrary.ml/content/api/\u001b[0m\n",
            "  \"The argument mode in render method is deprecated; \"\n",
            "/usr/local/lib/python3.7/dist-packages/gym/wrappers/monitoring/video_recorder.py:79: DeprecationWarning: \u001b[33mWARN: Recording ability for environment FrozenLake-v1 initialized with `render_mode=None` is marked as deprecated and will be removed in the future.\u001b[0m\n",
            "  f\"Recording ability for environment {env.spec.id} initialized with `render_mode=None` is marked \"\n",
            "/usr/local/lib/python3.7/dist-packages/gym/wrappers/monitoring/video_recorder.py:79: DeprecationWarning: \u001b[33mWARN: Recording ability for environment FrozenLake-v1 initialized with `render_mode=None` is marked as deprecated and will be removed in the future.\u001b[0m\n",
            "  f\"Recording ability for environment {env.spec.id} initialized with `render_mode=None` is marked \"\n",
            "/usr/local/lib/python3.7/dist-packages/gym/core.py:44: DeprecationWarning: \u001b[33mWARN: The argument mode in render method is deprecated; use render_mode during environment initialization instead.\n",
            "See here for more information: https://www.gymlibrary.ml/content/api/\u001b[0m\n",
            "  \"The argument mode in render method is deprecated; \"\n",
            "/usr/local/lib/python3.7/dist-packages/gym/core.py:44: DeprecationWarning: \u001b[33mWARN: The argument mode in render method is deprecated; use render_mode during environment initialization instead.\n",
            "See here for more information: https://www.gymlibrary.ml/content/api/\u001b[0m\n",
            "  \"The argument mode in render method is deprecated; \"\n",
            "/usr/local/lib/python3.7/dist-packages/gym/wrappers/monitoring/video_recorder.py:79: DeprecationWarning: \u001b[33mWARN: Recording ability for environment FrozenLake-v1 initialized with `render_mode=None` is marked as deprecated and will be removed in the future.\u001b[0m\n",
            "  f\"Recording ability for environment {env.spec.id} initialized with `render_mode=None` is marked \"\n",
            "/usr/local/lib/python3.7/dist-packages/gym/wrappers/monitoring/video_recorder.py:79: DeprecationWarning: \u001b[33mWARN: Recording ability for environment FrozenLake-v1 initialized with `render_mode=None` is marked as deprecated and will be removed in the future.\u001b[0m\n",
            "  f\"Recording ability for environment {env.spec.id} initialized with `render_mode=None` is marked \"\n",
            "/usr/local/lib/python3.7/dist-packages/gym/core.py:44: DeprecationWarning: \u001b[33mWARN: The argument mode in render method is deprecated; use render_mode during environment initialization instead.\n",
            "See here for more information: https://www.gymlibrary.ml/content/api/\u001b[0m\n",
            "  \"The argument mode in render method is deprecated; \"\n",
            "/usr/local/lib/python3.7/dist-packages/gym/core.py:44: DeprecationWarning: \u001b[33mWARN: The argument mode in render method is deprecated; use render_mode during environment initialization instead.\n",
            "See here for more information: https://www.gymlibrary.ml/content/api/\u001b[0m\n",
            "  \"The argument mode in render method is deprecated; \"\n",
            "/usr/local/lib/python3.7/dist-packages/gym/wrappers/monitoring/video_recorder.py:79: DeprecationWarning: \u001b[33mWARN: Recording ability for environment FrozenLake-v1 initialized with `render_mode=None` is marked as deprecated and will be removed in the future.\u001b[0m\n",
            "  f\"Recording ability for environment {env.spec.id} initialized with `render_mode=None` is marked \"\n",
            "/usr/local/lib/python3.7/dist-packages/gym/wrappers/monitoring/video_recorder.py:79: DeprecationWarning: \u001b[33mWARN: Recording ability for environment FrozenLake-v1 initialized with `render_mode=None` is marked as deprecated and will be removed in the future.\u001b[0m\n",
            "  f\"Recording ability for environment {env.spec.id} initialized with `render_mode=None` is marked \"\n",
            "/usr/local/lib/python3.7/dist-packages/gym/core.py:44: DeprecationWarning: \u001b[33mWARN: The argument mode in render method is deprecated; use render_mode during environment initialization instead.\n",
            "See here for more information: https://www.gymlibrary.ml/content/api/\u001b[0m\n",
            "  \"The argument mode in render method is deprecated; \"\n",
            "/usr/local/lib/python3.7/dist-packages/gym/core.py:44: DeprecationWarning: \u001b[33mWARN: The argument mode in render method is deprecated; use render_mode during environment initialization instead.\n",
            "See here for more information: https://www.gymlibrary.ml/content/api/\u001b[0m\n",
            "  \"The argument mode in render method is deprecated; \"\n",
            "/usr/local/lib/python3.7/dist-packages/gym/wrappers/monitoring/video_recorder.py:79: DeprecationWarning: \u001b[33mWARN: Recording ability for environment FrozenLake-v1 initialized with `render_mode=None` is marked as deprecated and will be removed in the future.\u001b[0m\n",
            "  f\"Recording ability for environment {env.spec.id} initialized with `render_mode=None` is marked \"\n",
            "/usr/local/lib/python3.7/dist-packages/gym/wrappers/monitoring/video_recorder.py:79: DeprecationWarning: \u001b[33mWARN: Recording ability for environment FrozenLake-v1 initialized with `render_mode=None` is marked as deprecated and will be removed in the future.\u001b[0m\n",
            "  f\"Recording ability for environment {env.spec.id} initialized with `render_mode=None` is marked \"\n",
            "/usr/local/lib/python3.7/dist-packages/gym/core.py:44: DeprecationWarning: \u001b[33mWARN: The argument mode in render method is deprecated; use render_mode during environment initialization instead.\n",
            "See here for more information: https://www.gymlibrary.ml/content/api/\u001b[0m\n",
            "  \"The argument mode in render method is deprecated; \"\n",
            "/usr/local/lib/python3.7/dist-packages/gym/core.py:44: DeprecationWarning: \u001b[33mWARN: The argument mode in render method is deprecated; use render_mode during environment initialization instead.\n",
            "See here for more information: https://www.gymlibrary.ml/content/api/\u001b[0m\n",
            "  \"The argument mode in render method is deprecated; \"\n"
          ]
        }
      ]
    },
    {
      "cell_type": "code",
      "source": [
        "import pandas as pd\n",
        "df = pd.DataFrame(Q.items(),columns=['state_action pair','value'])"
      ],
      "metadata": {
        "id": "ywRfS-wfn6Xb"
      },
      "execution_count": null,
      "outputs": []
    },
    {
      "cell_type": "markdown",
      "source": [
        "Note that on every iteration we update the Q function. After all the iterations, we will have the optimal Q function. Once we have the optimal Q function then we can extract the optimal policy by selecting the action which has maximum Q value in each state."
      ],
      "metadata": {
        "id": "LkLaQGL5n7yG"
      }
    },
    {
      "cell_type": "code",
      "source": [
        "df"
      ],
      "metadata": {
        "colab": {
          "base_uri": "https://localhost:8080/",
          "height": 424
        },
        "id": "TgwaRKdyn8Db",
        "outputId": "19570b53-bc19-4bd9-93f5-c5adcc9ad189"
      },
      "execution_count": null,
      "outputs": [
        {
          "output_type": "execute_result",
          "data": {
            "text/plain": [
              "   state_action pair     value\n",
              "0             (0, 0)  0.000169\n",
              "1             (0, 1)  0.000038\n",
              "2             (0, 2)  0.000147\n",
              "3             (0, 3)  0.000076\n",
              "4             (1, 0)  0.000409\n",
              "..               ...       ...\n",
              "59           (14, 3)  0.053221\n",
              "60           (15, 0)  0.000000\n",
              "61           (15, 1)  0.000000\n",
              "62           (15, 2)  0.000000\n",
              "63           (15, 3)  0.000000\n",
              "\n",
              "[64 rows x 2 columns]"
            ],
            "text/html": [
              "\n",
              "  <div id=\"df-cf5a7238-e077-42cf-90e5-cef56e1bffa8\">\n",
              "    <div class=\"colab-df-container\">\n",
              "      <div>\n",
              "<style scoped>\n",
              "    .dataframe tbody tr th:only-of-type {\n",
              "        vertical-align: middle;\n",
              "    }\n",
              "\n",
              "    .dataframe tbody tr th {\n",
              "        vertical-align: top;\n",
              "    }\n",
              "\n",
              "    .dataframe thead th {\n",
              "        text-align: right;\n",
              "    }\n",
              "</style>\n",
              "<table border=\"1\" class=\"dataframe\">\n",
              "  <thead>\n",
              "    <tr style=\"text-align: right;\">\n",
              "      <th></th>\n",
              "      <th>state_action pair</th>\n",
              "      <th>value</th>\n",
              "    </tr>\n",
              "  </thead>\n",
              "  <tbody>\n",
              "    <tr>\n",
              "      <th>0</th>\n",
              "      <td>(0, 0)</td>\n",
              "      <td>0.000169</td>\n",
              "    </tr>\n",
              "    <tr>\n",
              "      <th>1</th>\n",
              "      <td>(0, 1)</td>\n",
              "      <td>0.000038</td>\n",
              "    </tr>\n",
              "    <tr>\n",
              "      <th>2</th>\n",
              "      <td>(0, 2)</td>\n",
              "      <td>0.000147</td>\n",
              "    </tr>\n",
              "    <tr>\n",
              "      <th>3</th>\n",
              "      <td>(0, 3)</td>\n",
              "      <td>0.000076</td>\n",
              "    </tr>\n",
              "    <tr>\n",
              "      <th>4</th>\n",
              "      <td>(1, 0)</td>\n",
              "      <td>0.000409</td>\n",
              "    </tr>\n",
              "    <tr>\n",
              "      <th>...</th>\n",
              "      <td>...</td>\n",
              "      <td>...</td>\n",
              "    </tr>\n",
              "    <tr>\n",
              "      <th>59</th>\n",
              "      <td>(14, 3)</td>\n",
              "      <td>0.053221</td>\n",
              "    </tr>\n",
              "    <tr>\n",
              "      <th>60</th>\n",
              "      <td>(15, 0)</td>\n",
              "      <td>0.000000</td>\n",
              "    </tr>\n",
              "    <tr>\n",
              "      <th>61</th>\n",
              "      <td>(15, 1)</td>\n",
              "      <td>0.000000</td>\n",
              "    </tr>\n",
              "    <tr>\n",
              "      <th>62</th>\n",
              "      <td>(15, 2)</td>\n",
              "      <td>0.000000</td>\n",
              "    </tr>\n",
              "    <tr>\n",
              "      <th>63</th>\n",
              "      <td>(15, 3)</td>\n",
              "      <td>0.000000</td>\n",
              "    </tr>\n",
              "  </tbody>\n",
              "</table>\n",
              "<p>64 rows × 2 columns</p>\n",
              "</div>\n",
              "      <button class=\"colab-df-convert\" onclick=\"convertToInteractive('df-cf5a7238-e077-42cf-90e5-cef56e1bffa8')\"\n",
              "              title=\"Convert this dataframe to an interactive table.\"\n",
              "              style=\"display:none;\">\n",
              "        \n",
              "  <svg xmlns=\"http://www.w3.org/2000/svg\" height=\"24px\"viewBox=\"0 0 24 24\"\n",
              "       width=\"24px\">\n",
              "    <path d=\"M0 0h24v24H0V0z\" fill=\"none\"/>\n",
              "    <path d=\"M18.56 5.44l.94 2.06.94-2.06 2.06-.94-2.06-.94-.94-2.06-.94 2.06-2.06.94zm-11 1L8.5 8.5l.94-2.06 2.06-.94-2.06-.94L8.5 2.5l-.94 2.06-2.06.94zm10 10l.94 2.06.94-2.06 2.06-.94-2.06-.94-.94-2.06-.94 2.06-2.06.94z\"/><path d=\"M17.41 7.96l-1.37-1.37c-.4-.4-.92-.59-1.43-.59-.52 0-1.04.2-1.43.59L10.3 9.45l-7.72 7.72c-.78.78-.78 2.05 0 2.83L4 21.41c.39.39.9.59 1.41.59.51 0 1.02-.2 1.41-.59l7.78-7.78 2.81-2.81c.8-.78.8-2.07 0-2.86zM5.41 20L4 18.59l7.72-7.72 1.47 1.35L5.41 20z\"/>\n",
              "  </svg>\n",
              "      </button>\n",
              "      \n",
              "  <style>\n",
              "    .colab-df-container {\n",
              "      display:flex;\n",
              "      flex-wrap:wrap;\n",
              "      gap: 12px;\n",
              "    }\n",
              "\n",
              "    .colab-df-convert {\n",
              "      background-color: #E8F0FE;\n",
              "      border: none;\n",
              "      border-radius: 50%;\n",
              "      cursor: pointer;\n",
              "      display: none;\n",
              "      fill: #1967D2;\n",
              "      height: 32px;\n",
              "      padding: 0 0 0 0;\n",
              "      width: 32px;\n",
              "    }\n",
              "\n",
              "    .colab-df-convert:hover {\n",
              "      background-color: #E2EBFA;\n",
              "      box-shadow: 0px 1px 2px rgba(60, 64, 67, 0.3), 0px 1px 3px 1px rgba(60, 64, 67, 0.15);\n",
              "      fill: #174EA6;\n",
              "    }\n",
              "\n",
              "    [theme=dark] .colab-df-convert {\n",
              "      background-color: #3B4455;\n",
              "      fill: #D2E3FC;\n",
              "    }\n",
              "\n",
              "    [theme=dark] .colab-df-convert:hover {\n",
              "      background-color: #434B5C;\n",
              "      box-shadow: 0px 1px 3px 1px rgba(0, 0, 0, 0.15);\n",
              "      filter: drop-shadow(0px 1px 2px rgba(0, 0, 0, 0.3));\n",
              "      fill: #FFFFFF;\n",
              "    }\n",
              "  </style>\n",
              "\n",
              "      <script>\n",
              "        const buttonEl =\n",
              "          document.querySelector('#df-cf5a7238-e077-42cf-90e5-cef56e1bffa8 button.colab-df-convert');\n",
              "        buttonEl.style.display =\n",
              "          google.colab.kernel.accessAllowed ? 'block' : 'none';\n",
              "\n",
              "        async function convertToInteractive(key) {\n",
              "          const element = document.querySelector('#df-cf5a7238-e077-42cf-90e5-cef56e1bffa8');\n",
              "          const dataTable =\n",
              "            await google.colab.kernel.invokeFunction('convertToInteractive',\n",
              "                                                     [key], {});\n",
              "          if (!dataTable) return;\n",
              "\n",
              "          const docLinkHtml = 'Like what you see? Visit the ' +\n",
              "            '<a target=\"_blank\" href=https://colab.research.google.com/notebooks/data_table.ipynb>data table notebook</a>'\n",
              "            + ' to learn more about interactive tables.';\n",
              "          element.innerHTML = '';\n",
              "          dataTable['output_type'] = 'display_data';\n",
              "          await google.colab.output.renderOutput(dataTable, element);\n",
              "          const docLink = document.createElement('div');\n",
              "          docLink.innerHTML = docLinkHtml;\n",
              "          element.appendChild(docLink);\n",
              "        }\n",
              "      </script>\n",
              "    </div>\n",
              "  </div>\n",
              "  "
            ]
          },
          "metadata": {},
          "execution_count": 52
        }
      ]
    },
    {
      "cell_type": "markdown",
      "source": [
        "#### Q Learning"
      ],
      "metadata": {
        "id": "rZWHRs4yoBW5"
      }
    },
    {
      "cell_type": "markdown",
      "source": [
        "Let's define the dictionary for storing the Q value of the state-action pair and we initialize the Q value of all the state-action pair to 0.0:\n",
        "\n"
      ],
      "metadata": {
        "id": "-TDFV-SaoZmb"
      }
    },
    {
      "cell_type": "code",
      "source": [
        "Q = {}\n",
        "for s in range(env.observation_space.n):\n",
        "    for a in range(env.action_space.n):\n",
        "        Q[(s,a)] = 0.0"
      ],
      "metadata": {
        "id": "iHhAcLVwoFFy"
      },
      "execution_count": null,
      "outputs": []
    },
    {
      "cell_type": "markdown",
      "source": [
        "\n",
        "Now, let's define the epsilon-greedy policy. We generate a random number from the uniform distribution and if the random number is less than epsilon we select the random action else we select the best action which has the maximum Q value:"
      ],
      "metadata": {
        "id": "5mWyDRqvoe96"
      }
    },
    {
      "cell_type": "code",
      "source": [
        "def epsilon_greedy(state, epsilon):\n",
        "    if random.uniform(0,1) < epsilon:\n",
        "        return env.action_space.sample()\n",
        "    else:\n",
        "        return max(list(range(env.action_space.n)), key = lambda x: Q[(state,x)])"
      ],
      "metadata": {
        "id": "pNZxjcOUokoh"
      },
      "execution_count": null,
      "outputs": []
    },
    {
      "cell_type": "code",
      "source": [
        "alpha = 0.85\n",
        "gamma = 0.90\n",
        "epsilon = 0.8"
      ],
      "metadata": {
        "id": "FbZKuBR9omk4"
      },
      "execution_count": null,
      "outputs": []
    },
    {
      "cell_type": "code",
      "source": [
        "num_episodes = 5000\n",
        "num_steps = 1000"
      ],
      "metadata": {
        "id": "twGT_QJhopwh"
      },
      "execution_count": null,
      "outputs": []
    },
    {
      "cell_type": "markdown",
      "source": [
        "Compute the optimal policy using the Q learning update rule as: ![Screenshot from 2022-09-17 00-20-12.png](data:image/png;base64,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)"
      ],
      "metadata": {
        "id": "MWlo9ikLotXj"
      }
    },
    {
      "cell_type": "code",
      "source": [
        "#for each episode:\n",
        "for i in range(num_episodes):\n",
        "    \n",
        "    #initialize the state by resetting the environment\n",
        "    s = env.reset()\n",
        "    \n",
        "    #for each step in the episode\n",
        "    for t in range(num_steps):\n",
        "        \n",
        "        #select the action using the epsilon-greedy policy\n",
        "        a = epsilon_greedy(s,epsilon)\n",
        "        \n",
        "        #perform the selected action and store the next state information\n",
        "        s_, r, done, _ = env.step(a)\n",
        "        \n",
        "        #first, select the action a dash which has a maximum Q value in the next state\n",
        "        a_ = np.argmax([Q[(s_, a)] for a in range(env.action_space.n)])\n",
        "    \n",
        "        # we calculate the Q value of previous state using our update rule\n",
        "        Q[(s,a)] += alpha * (r + gamma * Q[(s_,a_)]-Q[(s,a)])\n",
        "    \n",
        "        #update current state to next state\n",
        "        s = s_\n",
        "        \n",
        "        #if the current state is the terminal state then break  \n",
        "        if done:\n",
        "            break"
      ],
      "metadata": {
        "colab": {
          "base_uri": "https://localhost:8080/"
        },
        "id": "8VcQeIX6oq5S",
        "outputId": "b151cb7d-6ad6-490e-b0d8-ca18882da6da"
      },
      "execution_count": null,
      "outputs": [
        {
          "output_type": "stream",
          "name": "stderr",
          "text": [
            "/usr/local/lib/python3.7/dist-packages/gym/wrappers/monitoring/video_recorder.py:79: DeprecationWarning: \u001b[33mWARN: Recording ability for environment FrozenLake-v1 initialized with `render_mode=None` is marked as deprecated and will be removed in the future.\u001b[0m\n",
            "  f\"Recording ability for environment {env.spec.id} initialized with `render_mode=None` is marked \"\n",
            "/usr/local/lib/python3.7/dist-packages/gym/core.py:44: DeprecationWarning: \u001b[33mWARN: The argument mode in render method is deprecated; use render_mode during environment initialization instead.\n",
            "See here for more information: https://www.gymlibrary.ml/content/api/\u001b[0m\n",
            "  \"The argument mode in render method is deprecated; \"\n",
            "/usr/local/lib/python3.7/dist-packages/gym/wrappers/monitoring/video_recorder.py:79: DeprecationWarning: \u001b[33mWARN: Recording ability for environment FrozenLake-v1 initialized with `render_mode=None` is marked as deprecated and will be removed in the future.\u001b[0m\n",
            "  f\"Recording ability for environment {env.spec.id} initialized with `render_mode=None` is marked \"\n",
            "/usr/local/lib/python3.7/dist-packages/gym/core.py:44: DeprecationWarning: \u001b[33mWARN: The argument mode in render method is deprecated; use render_mode during environment initialization instead.\n",
            "See here for more information: https://www.gymlibrary.ml/content/api/\u001b[0m\n",
            "  \"The argument mode in render method is deprecated; \"\n",
            "/usr/local/lib/python3.7/dist-packages/gym/core.py:44: DeprecationWarning: \u001b[33mWARN: The argument mode in render method is deprecated; use render_mode during environment initialization instead.\n",
            "See here for more information: https://www.gymlibrary.ml/content/api/\u001b[0m\n",
            "  \"The argument mode in render method is deprecated; \"\n",
            "/usr/local/lib/python3.7/dist-packages/gym/wrappers/monitoring/video_recorder.py:79: DeprecationWarning: \u001b[33mWARN: Recording ability for environment FrozenLake-v1 initialized with `render_mode=None` is marked as deprecated and will be removed in the future.\u001b[0m\n",
            "  f\"Recording ability for environment {env.spec.id} initialized with `render_mode=None` is marked \"\n",
            "/usr/local/lib/python3.7/dist-packages/gym/wrappers/monitoring/video_recorder.py:79: DeprecationWarning: \u001b[33mWARN: Recording ability for environment FrozenLake-v1 initialized with `render_mode=None` is marked as deprecated and will be removed in the future.\u001b[0m\n",
            "  f\"Recording ability for environment {env.spec.id} initialized with `render_mode=None` is marked \"\n",
            "/usr/local/lib/python3.7/dist-packages/gym/core.py:44: DeprecationWarning: \u001b[33mWARN: The argument mode in render method is deprecated; use render_mode during environment initialization instead.\n",
            "See here for more information: https://www.gymlibrary.ml/content/api/\u001b[0m\n",
            "  \"The argument mode in render method is deprecated; \"\n",
            "/usr/local/lib/python3.7/dist-packages/gym/core.py:44: DeprecationWarning: \u001b[33mWARN: The argument mode in render method is deprecated; use render_mode during environment initialization instead.\n",
            "See here for more information: https://www.gymlibrary.ml/content/api/\u001b[0m\n",
            "  \"The argument mode in render method is deprecated; \"\n",
            "/usr/local/lib/python3.7/dist-packages/gym/wrappers/monitoring/video_recorder.py:79: DeprecationWarning: \u001b[33mWARN: Recording ability for environment FrozenLake-v1 initialized with `render_mode=None` is marked as deprecated and will be removed in the future.\u001b[0m\n",
            "  f\"Recording ability for environment {env.spec.id} initialized with `render_mode=None` is marked \"\n",
            "/usr/local/lib/python3.7/dist-packages/gym/wrappers/monitoring/video_recorder.py:79: DeprecationWarning: \u001b[33mWARN: Recording ability for environment FrozenLake-v1 initialized with `render_mode=None` is marked as deprecated and will be removed in the future.\u001b[0m\n",
            "  f\"Recording ability for environment {env.spec.id} initialized with `render_mode=None` is marked \"\n",
            "/usr/local/lib/python3.7/dist-packages/gym/core.py:44: DeprecationWarning: \u001b[33mWARN: The argument mode in render method is deprecated; use render_mode during environment initialization instead.\n",
            "See here for more information: https://www.gymlibrary.ml/content/api/\u001b[0m\n",
            "  \"The argument mode in render method is deprecated; \"\n",
            "/usr/local/lib/python3.7/dist-packages/gym/core.py:44: DeprecationWarning: \u001b[33mWARN: The argument mode in render method is deprecated; use render_mode during environment initialization instead.\n",
            "See here for more information: https://www.gymlibrary.ml/content/api/\u001b[0m\n",
            "  \"The argument mode in render method is deprecated; \"\n",
            "/usr/local/lib/python3.7/dist-packages/gym/wrappers/monitoring/video_recorder.py:79: DeprecationWarning: \u001b[33mWARN: Recording ability for environment FrozenLake-v1 initialized with `render_mode=None` is marked as deprecated and will be removed in the future.\u001b[0m\n",
            "  f\"Recording ability for environment {env.spec.id} initialized with `render_mode=None` is marked \"\n",
            "/usr/local/lib/python3.7/dist-packages/gym/wrappers/monitoring/video_recorder.py:79: DeprecationWarning: \u001b[33mWARN: Recording ability for environment FrozenLake-v1 initialized with `render_mode=None` is marked as deprecated and will be removed in the future.\u001b[0m\n",
            "  f\"Recording ability for environment {env.spec.id} initialized with `render_mode=None` is marked \"\n",
            "/usr/local/lib/python3.7/dist-packages/gym/core.py:44: DeprecationWarning: \u001b[33mWARN: The argument mode in render method is deprecated; use render_mode during environment initialization instead.\n",
            "See here for more information: https://www.gymlibrary.ml/content/api/\u001b[0m\n",
            "  \"The argument mode in render method is deprecated; \"\n",
            "/usr/local/lib/python3.7/dist-packages/gym/core.py:44: DeprecationWarning: \u001b[33mWARN: The argument mode in render method is deprecated; use render_mode during environment initialization instead.\n",
            "See here for more information: https://www.gymlibrary.ml/content/api/\u001b[0m\n",
            "  \"The argument mode in render method is deprecated; \"\n",
            "/usr/local/lib/python3.7/dist-packages/gym/wrappers/monitoring/video_recorder.py:79: DeprecationWarning: \u001b[33mWARN: Recording ability for environment FrozenLake-v1 initialized with `render_mode=None` is marked as deprecated and will be removed in the future.\u001b[0m\n",
            "  f\"Recording ability for environment {env.spec.id} initialized with `render_mode=None` is marked \"\n",
            "/usr/local/lib/python3.7/dist-packages/gym/wrappers/monitoring/video_recorder.py:79: DeprecationWarning: \u001b[33mWARN: Recording ability for environment FrozenLake-v1 initialized with `render_mode=None` is marked as deprecated and will be removed in the future.\u001b[0m\n",
            "  f\"Recording ability for environment {env.spec.id} initialized with `render_mode=None` is marked \"\n",
            "/usr/local/lib/python3.7/dist-packages/gym/core.py:44: DeprecationWarning: \u001b[33mWARN: The argument mode in render method is deprecated; use render_mode during environment initialization instead.\n",
            "See here for more information: https://www.gymlibrary.ml/content/api/\u001b[0m\n",
            "  \"The argument mode in render method is deprecated; \"\n",
            "/usr/local/lib/python3.7/dist-packages/gym/core.py:44: DeprecationWarning: \u001b[33mWARN: The argument mode in render method is deprecated; use render_mode during environment initialization instead.\n",
            "See here for more information: https://www.gymlibrary.ml/content/api/\u001b[0m\n",
            "  \"The argument mode in render method is deprecated; \"\n"
          ]
        }
      ]
    },
    {
      "cell_type": "code",
      "source": [
        "import pandas as pd\n",
        "df = pd.DataFrame(Q.items(),columns=['state_action pair','value'])\n",
        "df"
      ],
      "metadata": {
        "colab": {
          "base_uri": "https://localhost:8080/",
          "height": 424
        },
        "id": "Jlmo3vXpozi6",
        "outputId": "738b39ef-79e4-4957-87a7-03da5910d691"
      },
      "execution_count": null,
      "outputs": [
        {
          "output_type": "execute_result",
          "data": {
            "text/plain": [
              "   state_action pair     value\n",
              "0             (0, 0)  0.341322\n",
              "1             (0, 1)  0.289157\n",
              "2             (0, 2)  0.315178\n",
              "3             (0, 3)  0.252480\n",
              "4             (1, 0)  0.046734\n",
              "..               ...       ...\n",
              "59           (14, 3)  0.836957\n",
              "60           (15, 0)  0.000000\n",
              "61           (15, 1)  0.000000\n",
              "62           (15, 2)  0.000000\n",
              "63           (15, 3)  0.000000\n",
              "\n",
              "[64 rows x 2 columns]"
            ],
            "text/html": [
              "\n",
              "  <div id=\"df-510f0ea6-ce10-4b15-8d62-aad89038e286\">\n",
              "    <div class=\"colab-df-container\">\n",
              "      <div>\n",
              "<style scoped>\n",
              "    .dataframe tbody tr th:only-of-type {\n",
              "        vertical-align: middle;\n",
              "    }\n",
              "\n",
              "    .dataframe tbody tr th {\n",
              "        vertical-align: top;\n",
              "    }\n",
              "\n",
              "    .dataframe thead th {\n",
              "        text-align: right;\n",
              "    }\n",
              "</style>\n",
              "<table border=\"1\" class=\"dataframe\">\n",
              "  <thead>\n",
              "    <tr style=\"text-align: right;\">\n",
              "      <th></th>\n",
              "      <th>state_action pair</th>\n",
              "      <th>value</th>\n",
              "    </tr>\n",
              "  </thead>\n",
              "  <tbody>\n",
              "    <tr>\n",
              "      <th>0</th>\n",
              "      <td>(0, 0)</td>\n",
              "      <td>0.341322</td>\n",
              "    </tr>\n",
              "    <tr>\n",
              "      <th>1</th>\n",
              "      <td>(0, 1)</td>\n",
              "      <td>0.289157</td>\n",
              "    </tr>\n",
              "    <tr>\n",
              "      <th>2</th>\n",
              "      <td>(0, 2)</td>\n",
              "      <td>0.315178</td>\n",
              "    </tr>\n",
              "    <tr>\n",
              "      <th>3</th>\n",
              "      <td>(0, 3)</td>\n",
              "      <td>0.252480</td>\n",
              "    </tr>\n",
              "    <tr>\n",
              "      <th>4</th>\n",
              "      <td>(1, 0)</td>\n",
              "      <td>0.046734</td>\n",
              "    </tr>\n",
              "    <tr>\n",
              "      <th>...</th>\n",
              "      <td>...</td>\n",
              "      <td>...</td>\n",
              "    </tr>\n",
              "    <tr>\n",
              "      <th>59</th>\n",
              "      <td>(14, 3)</td>\n",
              "      <td>0.836957</td>\n",
              "    </tr>\n",
              "    <tr>\n",
              "      <th>60</th>\n",
              "      <td>(15, 0)</td>\n",
              "      <td>0.000000</td>\n",
              "    </tr>\n",
              "    <tr>\n",
              "      <th>61</th>\n",
              "      <td>(15, 1)</td>\n",
              "      <td>0.000000</td>\n",
              "    </tr>\n",
              "    <tr>\n",
              "      <th>62</th>\n",
              "      <td>(15, 2)</td>\n",
              "      <td>0.000000</td>\n",
              "    </tr>\n",
              "    <tr>\n",
              "      <th>63</th>\n",
              "      <td>(15, 3)</td>\n",
              "      <td>0.000000</td>\n",
              "    </tr>\n",
              "  </tbody>\n",
              "</table>\n",
              "<p>64 rows × 2 columns</p>\n",
              "</div>\n",
              "      <button class=\"colab-df-convert\" onclick=\"convertToInteractive('df-510f0ea6-ce10-4b15-8d62-aad89038e286')\"\n",
              "              title=\"Convert this dataframe to an interactive table.\"\n",
              "              style=\"display:none;\">\n",
              "        \n",
              "  <svg xmlns=\"http://www.w3.org/2000/svg\" height=\"24px\"viewBox=\"0 0 24 24\"\n",
              "       width=\"24px\">\n",
              "    <path d=\"M0 0h24v24H0V0z\" fill=\"none\"/>\n",
              "    <path d=\"M18.56 5.44l.94 2.06.94-2.06 2.06-.94-2.06-.94-.94-2.06-.94 2.06-2.06.94zm-11 1L8.5 8.5l.94-2.06 2.06-.94-2.06-.94L8.5 2.5l-.94 2.06-2.06.94zm10 10l.94 2.06.94-2.06 2.06-.94-2.06-.94-.94-2.06-.94 2.06-2.06.94z\"/><path d=\"M17.41 7.96l-1.37-1.37c-.4-.4-.92-.59-1.43-.59-.52 0-1.04.2-1.43.59L10.3 9.45l-7.72 7.72c-.78.78-.78 2.05 0 2.83L4 21.41c.39.39.9.59 1.41.59.51 0 1.02-.2 1.41-.59l7.78-7.78 2.81-2.81c.8-.78.8-2.07 0-2.86zM5.41 20L4 18.59l7.72-7.72 1.47 1.35L5.41 20z\"/>\n",
              "  </svg>\n",
              "      </button>\n",
              "      \n",
              "  <style>\n",
              "    .colab-df-container {\n",
              "      display:flex;\n",
              "      flex-wrap:wrap;\n",
              "      gap: 12px;\n",
              "    }\n",
              "\n",
              "    .colab-df-convert {\n",
              "      background-color: #E8F0FE;\n",
              "      border: none;\n",
              "      border-radius: 50%;\n",
              "      cursor: pointer;\n",
              "      display: none;\n",
              "      fill: #1967D2;\n",
              "      height: 32px;\n",
              "      padding: 0 0 0 0;\n",
              "      width: 32px;\n",
              "    }\n",
              "\n",
              "    .colab-df-convert:hover {\n",
              "      background-color: #E2EBFA;\n",
              "      box-shadow: 0px 1px 2px rgba(60, 64, 67, 0.3), 0px 1px 3px 1px rgba(60, 64, 67, 0.15);\n",
              "      fill: #174EA6;\n",
              "    }\n",
              "\n",
              "    [theme=dark] .colab-df-convert {\n",
              "      background-color: #3B4455;\n",
              "      fill: #D2E3FC;\n",
              "    }\n",
              "\n",
              "    [theme=dark] .colab-df-convert:hover {\n",
              "      background-color: #434B5C;\n",
              "      box-shadow: 0px 1px 3px 1px rgba(0, 0, 0, 0.15);\n",
              "      filter: drop-shadow(0px 1px 2px rgba(0, 0, 0, 0.3));\n",
              "      fill: #FFFFFF;\n",
              "    }\n",
              "  </style>\n",
              "\n",
              "      <script>\n",
              "        const buttonEl =\n",
              "          document.querySelector('#df-510f0ea6-ce10-4b15-8d62-aad89038e286 button.colab-df-convert');\n",
              "        buttonEl.style.display =\n",
              "          google.colab.kernel.accessAllowed ? 'block' : 'none';\n",
              "\n",
              "        async function convertToInteractive(key) {\n",
              "          const element = document.querySelector('#df-510f0ea6-ce10-4b15-8d62-aad89038e286');\n",
              "          const dataTable =\n",
              "            await google.colab.kernel.invokeFunction('convertToInteractive',\n",
              "                                                     [key], {});\n",
              "          if (!dataTable) return;\n",
              "\n",
              "          const docLinkHtml = 'Like what you see? Visit the ' +\n",
              "            '<a target=\"_blank\" href=https://colab.research.google.com/notebooks/data_table.ipynb>data table notebook</a>'\n",
              "            + ' to learn more about interactive tables.';\n",
              "          element.innerHTML = '';\n",
              "          dataTable['output_type'] = 'display_data';\n",
              "          await google.colab.output.renderOutput(dataTable, element);\n",
              "          const docLink = document.createElement('div');\n",
              "          docLink.innerHTML = docLinkHtml;\n",
              "          element.appendChild(docLink);\n",
              "        }\n",
              "      </script>\n",
              "    </div>\n",
              "  </div>\n",
              "  "
            ]
          },
          "metadata": {},
          "execution_count": 58
        }
      ]
    }
  ]
}